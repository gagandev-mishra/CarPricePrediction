{
 "cells": [
  {
   "cell_type": "markdown",
   "metadata": {},
   "source": [
    "## Car Price Prediction\n",
    "For some individual buying a car is one of the big thing, and it's obivous that person will think twice before spending the hard money on the used car. There will be a numer of question that may running like is it worth to buy that car? Price is not to high? Wheter the vehicle would be in good condition if not I can spend x amount of money even if it has problem like that similar problem seller also can face like i'm not placing the high price due to that genuine buyer can't reach out to me? Or I under appreciate the price of car.\n",
    "\n",
    "This is the commong question among the seller and buyer.\n",
    "\n",
    "To solve that statment, we can use Linear regression to get the best inference of the car the price using certain features, which will assure both seller, and buyer so that they won't hesistate to make right call.\n",
    "\n",
    "For that we are scraping the data from one of the leading used car website \"Car Dekho\" which has 50,000+ car listing, and from that I'm going to pick around 6,000+ to train my model to predict the price."
   ]
  },
  {
   "cell_type": "markdown",
   "metadata": {},
   "source": [
    "### Download/Scrape Data"
   ]
  },
  {
   "cell_type": "markdown",
   "metadata": {},
   "source": [
    "To get started I need to have a real data so to get that I wrote a script which will go to car_dekho website API listing, and retreive the necessary information like \n",
    "- 'model_year',  \n",
    "- 'model_name', \n",
    "- 'variant_name',\n",
    "- 'car_oem', \n",
    "- 'owner',\n",
    "- 'km', \n",
    "- 'ft', \n",
    "- 'tt',\n",
    "- 'No. of Doors', \n",
    "\n",
    "and many other features, which can be useful for analysing"
   ]
  },
  {
   "cell_type": "code",
   "execution_count": null,
   "metadata": {},
   "outputs": [],
   "source": [
    "# import requests\n",
    "# import json\n",
    "# import pandas as pd\n",
    "# import time\n",
    "\n",
    "# # CarDekho API URL\n",
    "# base_url = \"https://listing.cardekho.com/api/v1/srp-listings\"\n",
    "\n",
    "# # To hold the unique of vehcile listing\n",
    "# vehicle_central_id = []\n",
    "# # Store overall car data from the https://www.cardekho.com/used-cars\n",
    "# car_data = []\n",
    "# # Store the detail information about car\n",
    "# car_spec = {}\n",
    "\n",
    "# # Pagination pattern\n",
    "# page_step = 20  # Change this based on observed behavior\n",
    "# pagination_step = 15\n",
    "# total_pages = 500  # Adjust as needed\n",
    "\n",
    "# urls = []  # Store generated URLs\n",
    "\n",
    "# # Set the header to avoid blocking\n",
    "# headers = {'User-Agent': 'Mozilla/5.0 (Windows NT 10.0; Win64; x64; rv:134.0) Gecko/20100101 Firefox/134.0', 'Referer': 'https://www.google.com/'}\n",
    "\n",
    "# # Set the number of page to extract and put the parameters to pass while extracting\n",
    "# # Generate URLs dynamically\n",
    "# for i in range(total_pages):\n",
    "#     pagefrom = i * page_step\n",
    "#     pagination = json.dumps({\n",
    "#         \"common\": (i + 1) * pagination_step,\n",
    "#         \"commonFeature\": (i + 1) * 5,  # Adjust based on observed behavior\n",
    "#         \"carAd\": 0\n",
    "#     })\n",
    "\n",
    "#     params = {\n",
    "#     \"cityId\": \"\",\n",
    "#     \"connectoid\": \"\",\n",
    "#     \"sessionid\": \"a6bde3c9ca870ed1c46b18a5a2d06f5f\",\n",
    "#     \"lang_code\": \"en\",\n",
    "#     \"regionId\": \"0\",\n",
    "#     \"searchstring\": \"used-cars\",\n",
    "#     \"sortby\": \"\",\n",
    "#     \"sortorder\": \"desc\",\n",
    "#     \"mink\": \"\",\n",
    "#     \"maxk\": \"\",\n",
    "#     \"dealer_id\": \"null\",\n",
    "#     \"regCityNames\": \"\",\n",
    "#     \"regStateNames\": \"\",\n",
    "#     \"cellValue\": \"\",\n",
    "#     \"device\": \"web\",\n",
    "#     \"userLat\": \"\",\n",
    "#     \"userLng\": \"\",\n",
    "#     \"platform\": \"web\",\n",
    "#     \"pagefrom\": pagefrom,\n",
    "#     \"pagination\": pagination  # JSON formatted pagination\n",
    "# }\n",
    "\n",
    "#     response = requests.get(base_url, params=params, headers=headers)\n",
    "    \n",
    "#     # If the status is 200, then execute the following lines of code, and store data in json \n",
    "#     if response.status_code == 200:\n",
    "#         data = response.json()\n",
    "\n",
    "#     # Store the necessary infomration that I want to keep    \n",
    "#     for car in data['data']['cars']:\n",
    "#         car_data.append({\n",
    "#                         'usedCarId': car['usedCarId'],'centralVariantId': car['centralVariantId'], 'model_year': car['myear'], 'model_name': car['model'],\n",
    "#                         'variant_name': car['variantName'], 'car_oem': car['oem'],'car_type': car['bt'],'owner': car['owner'], 'owner_slug': car['ownerSlug'],\n",
    "#                         'km': car['km'], 'ft': car['ft'], 'tt': car['tt'], 'msp': car['msp'], 'city': car['city']\n",
    "#                         })\n",
    "#         # Also making note of centralVariantId to find more details about car\n",
    "#         vehicle_central_id.append(car['centralVariantId'])\n",
    "    \n",
    "#     time.sleep(1.5)\n",
    "\n",
    "# # Required Features\n",
    "# required_features = [\n",
    "#     \"Engine Type\", \"Displacement\", \"Max Power\", \"Max Torque\", \"No. of Cylinders\", \"Valves Per Cylinder\", \"Emission Norm Compliance\",\"Drive Type\", \"Gearbox\", \"Steering Type\",\n",
    "#     \"Drive Type\", \"Mileage\", \"Length\", \"Width\", \"Height\", \"Ground Clearance Unladen\", \"Kerb Weight\",\"Seating Capacity\", \"Wheel Base\", \"No. of Doors\"\n",
    "# ]\n",
    "\n",
    "# #  Above just extracted handful of information about car, and seller, but the following line of code will extract the car technical information\n",
    "# row_extracted = 0\n",
    "# for vlink_id in vehicle_central_id:\n",
    "#     # https://www.cardekho.com/api/v1/usedcar/specs?&cityId=&connectoid=&sessionid=dc58effe83d533529880f6db5f2ca75a&lang_code=en&regionId=0&otherinfo=all&variantId=1549\n",
    "#     specs_url = f\"https://www.cardekho.com/api/v1/usedcar/specs?variantId={vlink_id}&otherinfo=all\"\n",
    "#     specs_response = requests.get(specs_url, headers=headers)\n",
    "    \n",
    "#     # Check for the response status, and move forward to store \n",
    "#     if specs_response.status_code == 200:\n",
    "#         specs_data = specs_response.json()\n",
    "        \n",
    "#         for features in specs_data['data']['carSpecification']['data']:\n",
    "#             for inner_feature in features['list']:\n",
    "#                 key = inner_feature['key']\n",
    "#                 value = inner_feature['value']\n",
    "                \n",
    "#                 # Store only required features\n",
    "#                 if key in required_features:\n",
    "#                     if vlink_id not in car_spec:\n",
    "#                         car_spec[vlink_id] = {}  # Store as dictionary\n",
    "\n",
    "#                     car_spec[vlink_id][key] = value  # Save as key-value pair\n",
    "\n",
    "#         row_extracted += 1\n",
    "#         print(f\"No. of row {row_extracted} extracted sucessfully!\")\n",
    "#         time.sleep(1.5)\n",
    "\n",
    "#     else:\n",
    "#         print(f\"Failed to fetch specs for {vlink_id}\")\n",
    "\n",
    "\n",
    "# # Convert dictionary to Pandas DataFrame\n",
    "# car_data_df = pd.DataFrame(car_data)\n",
    "\n",
    "# car_spec_df = pd.DataFrame.from_dict(car_spec, orient=\"index\").reset_index()\n",
    "# car_spec_df.rename(columns={\"index\": \"centralVariantId\"}, inplace=True)\n",
    "\n",
    "# # Merge with car_data\n",
    "# merged_df = car_data_df.merge(car_spec_df, on=\"centralVariantId\", how=\"inner\")\n",
    "\n",
    "# # Save file into csv\n",
    "# merged_df.to_csv(\"cardekho.csv\", index=False)"
   ]
  },
  {
   "cell_type": "markdown",
   "metadata": {},
   "source": [
    "As the data is now available I'm ready to install the necessary libraries, and start doing the EDA, Data processing task so that our model is equip with the right data so that it won't struggle a bit to provide you the best price according to the given features. "
   ]
  },
  {
   "cell_type": "markdown",
   "metadata": {},
   "source": [
    "### Load the Data"
   ]
  },
  {
   "cell_type": "code",
   "execution_count": 516,
   "metadata": {},
   "outputs": [],
   "source": [
    "# Import all the necessary libraries\n",
    "import numpy as np\n",
    "import pandas as pd\n",
    "import matplotlib.pyplot as plt\n",
    "import seaborn as sns\n",
    "\n",
    "# Preprocessing & Modeling\n",
    "from sklearn.model_selection import train_test_split, GridSearchCV, cross_val_score\n",
    "from sklearn.preprocessing import StandardScaler, LabelEncoder\n",
    "from sklearn.linear_model import Ridge, RidgeCV, LinearRegression\n",
    "from sklearn.ensemble import RandomForestRegressor\n",
    "from sklearn.metrics import mean_absolute_error, mean_squared_error, root_mean_squared_error, r2_score\n",
    "\n",
    "# Multicollinearity Check\n",
    "from statsmodels.stats.outliers_influence import variance_inflation_factor\n",
    "\n",
    "# Ignore warnings for clean output\n",
    "import warnings\n",
    "warnings.filterwarnings(\"ignore\")"
   ]
  },
  {
   "cell_type": "code",
   "execution_count": 703,
   "metadata": {},
   "outputs": [
    {
     "data": {
      "text/html": [
       "<div>\n",
       "<style scoped>\n",
       "    .dataframe tbody tr th:only-of-type {\n",
       "        vertical-align: middle;\n",
       "    }\n",
       "\n",
       "    .dataframe tbody tr th {\n",
       "        vertical-align: top;\n",
       "    }\n",
       "\n",
       "    .dataframe thead th {\n",
       "        text-align: right;\n",
       "    }\n",
       "</style>\n",
       "<table border=\"1\" class=\"dataframe\">\n",
       "  <thead>\n",
       "    <tr style=\"text-align: right;\">\n",
       "      <th></th>\n",
       "      <th>centralVariantId</th>\n",
       "      <th>model_year</th>\n",
       "      <th>model_name</th>\n",
       "      <th>variant_name</th>\n",
       "      <th>car_oem</th>\n",
       "      <th>owner</th>\n",
       "      <th>owner_slug</th>\n",
       "      <th>km</th>\n",
       "      <th>ft</th>\n",
       "      <th>tt</th>\n",
       "      <th>...</th>\n",
       "      <th>Emission Norm Compliance</th>\n",
       "      <th>Steering Type</th>\n",
       "      <th>Length</th>\n",
       "      <th>Width</th>\n",
       "      <th>Height</th>\n",
       "      <th>Seating Capacity</th>\n",
       "      <th>Wheel Base</th>\n",
       "      <th>Kerb Weight</th>\n",
       "      <th>No. of Doors</th>\n",
       "      <th>Ground Clearance Unladen</th>\n",
       "    </tr>\n",
       "  </thead>\n",
       "  <tbody>\n",
       "    <tr>\n",
       "      <th>0</th>\n",
       "      <td>8321</td>\n",
       "      <td>2022</td>\n",
       "      <td>Jeep Compass</td>\n",
       "      <td>Model S DCT BSVI</td>\n",
       "      <td>Jeep</td>\n",
       "      <td>1</td>\n",
       "      <td>first-owner</td>\n",
       "      <td>21,000</td>\n",
       "      <td>Petrol</td>\n",
       "      <td>Automatic</td>\n",
       "      <td>...</td>\n",
       "      <td>BS VI</td>\n",
       "      <td>Power</td>\n",
       "      <td>4405 mm</td>\n",
       "      <td>1818 mm</td>\n",
       "      <td>1640 mm</td>\n",
       "      <td>5</td>\n",
       "      <td>2636 mm</td>\n",
       "      <td>1580 kg</td>\n",
       "      <td>5.0</td>\n",
       "      <td>NaN</td>\n",
       "    </tr>\n",
       "    <tr>\n",
       "      <th>1</th>\n",
       "      <td>10582</td>\n",
       "      <td>2023</td>\n",
       "      <td>BMW 3 Series Gran Limousine</td>\n",
       "      <td>320Ld M Sport</td>\n",
       "      <td>BMW</td>\n",
       "      <td>1</td>\n",
       "      <td>first-owner</td>\n",
       "      <td>1,623</td>\n",
       "      <td>Diesel</td>\n",
       "      <td>Automatic</td>\n",
       "      <td>...</td>\n",
       "      <td>BS VI 2.0</td>\n",
       "      <td>Electric</td>\n",
       "      <td>4823 mm</td>\n",
       "      <td>1827 mm</td>\n",
       "      <td>1441 mm</td>\n",
       "      <td>5</td>\n",
       "      <td>2400 mm</td>\n",
       "      <td>1640 kg</td>\n",
       "      <td>4.0</td>\n",
       "      <td>NaN</td>\n",
       "    </tr>\n",
       "    <tr>\n",
       "      <th>2</th>\n",
       "      <td>12204</td>\n",
       "      <td>2024</td>\n",
       "      <td>Audi Q7</td>\n",
       "      <td>Technology</td>\n",
       "      <td>Audi</td>\n",
       "      <td>0</td>\n",
       "      <td>unregistered</td>\n",
       "      <td>3,500</td>\n",
       "      <td>Petrol</td>\n",
       "      <td>Automatic</td>\n",
       "      <td>...</td>\n",
       "      <td>BS VI 2.0</td>\n",
       "      <td>Electric</td>\n",
       "      <td>5072 mm</td>\n",
       "      <td>1970 mm</td>\n",
       "      <td>1705 mm</td>\n",
       "      <td>7</td>\n",
       "      <td>3000 mm</td>\n",
       "      <td>NaN</td>\n",
       "      <td>5.0</td>\n",
       "      <td>NaN</td>\n",
       "    </tr>\n",
       "    <tr>\n",
       "      <th>3</th>\n",
       "      <td>10568</td>\n",
       "      <td>2024</td>\n",
       "      <td>Audi Q3 Sportback</td>\n",
       "      <td>40TFSI Quattro</td>\n",
       "      <td>Audi</td>\n",
       "      <td>0</td>\n",
       "      <td>unregistered</td>\n",
       "      <td>6,100</td>\n",
       "      <td>Petrol</td>\n",
       "      <td>Automatic</td>\n",
       "      <td>...</td>\n",
       "      <td>BS VI 2.0</td>\n",
       "      <td>Electric</td>\n",
       "      <td>4518 mm</td>\n",
       "      <td>2022 mm</td>\n",
       "      <td>1558 mm</td>\n",
       "      <td>5</td>\n",
       "      <td>2651 mm</td>\n",
       "      <td>1595 kg</td>\n",
       "      <td>5.0</td>\n",
       "      <td>NaN</td>\n",
       "    </tr>\n",
       "    <tr>\n",
       "      <th>4</th>\n",
       "      <td>6837</td>\n",
       "      <td>2022</td>\n",
       "      <td>Mercedes-Benz GLC</td>\n",
       "      <td>200</td>\n",
       "      <td>Mercedes-Benz</td>\n",
       "      <td>2</td>\n",
       "      <td>second-owner</td>\n",
       "      <td>22,000</td>\n",
       "      <td>Petrol</td>\n",
       "      <td>Automatic</td>\n",
       "      <td>...</td>\n",
       "      <td>BS VI</td>\n",
       "      <td>Power</td>\n",
       "      <td>4658 mm</td>\n",
       "      <td>1890 mm</td>\n",
       "      <td>1644 mm</td>\n",
       "      <td>5</td>\n",
       "      <td>2873 mm</td>\n",
       "      <td>1585 kg</td>\n",
       "      <td>5.0</td>\n",
       "      <td>NaN</td>\n",
       "    </tr>\n",
       "  </tbody>\n",
       "</table>\n",
       "<p>5 rows × 31 columns</p>\n",
       "</div>"
      ],
      "text/plain": [
       "   centralVariantId  model_year                   model_name  \\\n",
       "0              8321        2022                 Jeep Compass   \n",
       "1             10582        2023  BMW 3 Series Gran Limousine   \n",
       "2             12204        2024                      Audi Q7   \n",
       "3             10568        2024            Audi Q3 Sportback   \n",
       "4              6837        2022            Mercedes-Benz GLC   \n",
       "\n",
       "       variant_name        car_oem  owner    owner_slug      km      ft  \\\n",
       "0  Model S DCT BSVI           Jeep      1   first-owner  21,000  Petrol   \n",
       "1     320Ld M Sport            BMW      1   first-owner   1,623  Diesel   \n",
       "2        Technology           Audi      0  unregistered   3,500  Petrol   \n",
       "3    40TFSI Quattro           Audi      0  unregistered   6,100  Petrol   \n",
       "4               200  Mercedes-Benz      2  second-owner  22,000  Petrol   \n",
       "\n",
       "          tt  ...  Emission Norm Compliance Steering Type   Length    Width  \\\n",
       "0  Automatic  ...                     BS VI         Power  4405 mm  1818 mm   \n",
       "1  Automatic  ...                 BS VI 2.0      Electric  4823 mm  1827 mm   \n",
       "2  Automatic  ...                 BS VI 2.0      Electric  5072 mm  1970 mm   \n",
       "3  Automatic  ...                 BS VI 2.0      Electric  4518 mm  2022 mm   \n",
       "4  Automatic  ...                     BS VI         Power  4658 mm  1890 mm   \n",
       "\n",
       "    Height Seating Capacity Wheel Base  Kerb Weight  No. of Doors  \\\n",
       "0  1640 mm                5    2636 mm      1580 kg           5.0   \n",
       "1  1441 mm                5    2400 mm      1640 kg           4.0   \n",
       "2  1705 mm                7    3000 mm          NaN           5.0   \n",
       "3  1558 mm                5    2651 mm      1595 kg           5.0   \n",
       "4  1644 mm                5    2873 mm      1585 kg           5.0   \n",
       "\n",
       "  Ground Clearance Unladen  \n",
       "0                      NaN  \n",
       "1                      NaN  \n",
       "2                      NaN  \n",
       "3                      NaN  \n",
       "4                      NaN  \n",
       "\n",
       "[5 rows x 31 columns]"
      ]
     },
     "execution_count": 703,
     "metadata": {},
     "output_type": "execute_result"
    }
   ],
   "source": [
    "# Load the car data\n",
    "car_df = pd.read_csv(\"og_cardekho.csv\")\n",
    "car_df.head(5)"
   ]
  },
  {
   "cell_type": "code",
   "execution_count": 704,
   "metadata": {},
   "outputs": [
    {
     "name": "stdout",
     "output_type": "stream",
     "text": [
      "There are 5980 rows, and 31 columns in the dataset.\n"
     ]
    }
   ],
   "source": [
    "# Check the shape of a data\n",
    "print(f\"There are {car_df.shape[0]} rows, and {car_df.shape[1]} columns in the dataset.\")"
   ]
  },
  {
   "cell_type": "code",
   "execution_count": 705,
   "metadata": {},
   "outputs": [
    {
     "name": "stdout",
     "output_type": "stream",
     "text": [
      "<class 'pandas.core.frame.DataFrame'>\n",
      "RangeIndex: 5980 entries, 0 to 5979\n",
      "Data columns (total 31 columns):\n",
      " #   Column                    Non-Null Count  Dtype  \n",
      "---  ------                    --------------  -----  \n",
      " 0   centralVariantId          5980 non-null   int64  \n",
      " 1   model_year                5980 non-null   int64  \n",
      " 2   model_name                5980 non-null   object \n",
      " 3   variant_name              5980 non-null   object \n",
      " 4   car_oem                   5980 non-null   object \n",
      " 5   owner                     5980 non-null   int64  \n",
      " 6   owner_slug                5980 non-null   object \n",
      " 7   km                        5980 non-null   object \n",
      " 8   ft                        5980 non-null   object \n",
      " 9   tt                        5980 non-null   object \n",
      " 10  msp                       5980 non-null   int64  \n",
      " 11  city                      5980 non-null   object \n",
      " 12  locality                  5382 non-null   object \n",
      " 13  Engine Type               5681 non-null   object \n",
      " 14  Displacement              5980 non-null   object \n",
      " 15  Max Power                 5980 non-null   object \n",
      " 16  Max Torque                5980 non-null   object \n",
      " 17  No. of Cylinders          5980 non-null   int64  \n",
      " 18  Valves Per Cylinder       5980 non-null   int64  \n",
      " 19  Gearbox                   5980 non-null   object \n",
      " 20  Drive Type                5262 non-null   object \n",
      " 21  Emission Norm Compliance  5980 non-null   object \n",
      " 22  Steering Type             5083 non-null   object \n",
      " 23  Length                    5980 non-null   object \n",
      " 24  Width                     5980 non-null   object \n",
      " 25  Height                    5980 non-null   object \n",
      " 26  Seating Capacity          5980 non-null   int64  \n",
      " 27  Wheel Base                5681 non-null   object \n",
      " 28  Kerb Weight               4904 non-null   object \n",
      " 29  No. of Doors              5681 non-null   float64\n",
      " 30  Ground Clearance Unladen  2213 non-null   object \n",
      "dtypes: float64(1), int64(7), object(23)\n",
      "memory usage: 1.4+ MB\n"
     ]
    }
   ],
   "source": [
    "# Get the information about dataset\n",
    "car_df.info()"
   ]
  },
  {
   "cell_type": "markdown",
   "metadata": {},
   "source": [
    "#### Check Missing Values"
   ]
  },
  {
   "cell_type": "markdown",
   "metadata": {},
   "source": [
    "This all are the columns names where the missing value exists."
   ]
  },
  {
   "cell_type": "code",
   "execution_count": 706,
   "metadata": {},
   "outputs": [
    {
     "data": {
      "text/html": [
       "<div>\n",
       "<style scoped>\n",
       "    .dataframe tbody tr th:only-of-type {\n",
       "        vertical-align: middle;\n",
       "    }\n",
       "\n",
       "    .dataframe tbody tr th {\n",
       "        vertical-align: top;\n",
       "    }\n",
       "\n",
       "    .dataframe thead th {\n",
       "        text-align: right;\n",
       "    }\n",
       "</style>\n",
       "<table border=\"1\" class=\"dataframe\">\n",
       "  <thead>\n",
       "    <tr style=\"text-align: right;\">\n",
       "      <th></th>\n",
       "      <th>col_name</th>\n",
       "      <th>count</th>\n",
       "    </tr>\n",
       "  </thead>\n",
       "  <tbody>\n",
       "    <tr>\n",
       "      <th>0</th>\n",
       "      <td>locality</td>\n",
       "      <td>598</td>\n",
       "    </tr>\n",
       "    <tr>\n",
       "      <th>1</th>\n",
       "      <td>Engine Type</td>\n",
       "      <td>299</td>\n",
       "    </tr>\n",
       "    <tr>\n",
       "      <th>2</th>\n",
       "      <td>Drive Type</td>\n",
       "      <td>718</td>\n",
       "    </tr>\n",
       "    <tr>\n",
       "      <th>3</th>\n",
       "      <td>Steering Type</td>\n",
       "      <td>897</td>\n",
       "    </tr>\n",
       "    <tr>\n",
       "      <th>4</th>\n",
       "      <td>Wheel Base</td>\n",
       "      <td>299</td>\n",
       "    </tr>\n",
       "    <tr>\n",
       "      <th>5</th>\n",
       "      <td>Kerb Weight</td>\n",
       "      <td>1076</td>\n",
       "    </tr>\n",
       "    <tr>\n",
       "      <th>6</th>\n",
       "      <td>No. of Doors</td>\n",
       "      <td>299</td>\n",
       "    </tr>\n",
       "    <tr>\n",
       "      <th>7</th>\n",
       "      <td>Ground Clearance Unladen</td>\n",
       "      <td>3767</td>\n",
       "    </tr>\n",
       "  </tbody>\n",
       "</table>\n",
       "</div>"
      ],
      "text/plain": [
       "                   col_name  count\n",
       "0                  locality    598\n",
       "1               Engine Type    299\n",
       "2                Drive Type    718\n",
       "3             Steering Type    897\n",
       "4                Wheel Base    299\n",
       "5               Kerb Weight   1076\n",
       "6              No. of Doors    299\n",
       "7  Ground Clearance Unladen   3767"
      ]
     },
     "execution_count": 706,
     "metadata": {},
     "output_type": "execute_result"
    }
   ],
   "source": [
    "count_of_missing = car_df[car_df.columns[car_df.isnull().sum() > 0]].isnull().sum().reset_index(name=\"count\").rename(columns={\"index\": \"col_name\", \"0\":\"count\"})\n",
    "count_of_missing"
   ]
  },
  {
   "cell_type": "code",
   "execution_count": 7,
   "metadata": {},
   "outputs": [],
   "source": [
    "# Percentage of missing information\n",
    "count_of_missing['percentage_%'] = (count_of_missing['count'] / car_df.shape[0] * 100).round()"
   ]
  },
  {
   "cell_type": "code",
   "execution_count": 8,
   "metadata": {},
   "outputs": [
    {
     "data": {
      "text/html": [
       "<div>\n",
       "<style scoped>\n",
       "    .dataframe tbody tr th:only-of-type {\n",
       "        vertical-align: middle;\n",
       "    }\n",
       "\n",
       "    .dataframe tbody tr th {\n",
       "        vertical-align: top;\n",
       "    }\n",
       "\n",
       "    .dataframe thead th {\n",
       "        text-align: right;\n",
       "    }\n",
       "</style>\n",
       "<table border=\"1\" class=\"dataframe\">\n",
       "  <thead>\n",
       "    <tr style=\"text-align: right;\">\n",
       "      <th></th>\n",
       "      <th>col_name</th>\n",
       "      <th>count</th>\n",
       "      <th>percentage_%</th>\n",
       "    </tr>\n",
       "  </thead>\n",
       "  <tbody>\n",
       "    <tr>\n",
       "      <th>0</th>\n",
       "      <td>locality</td>\n",
       "      <td>598</td>\n",
       "      <td>10.0</td>\n",
       "    </tr>\n",
       "    <tr>\n",
       "      <th>1</th>\n",
       "      <td>Engine Type</td>\n",
       "      <td>299</td>\n",
       "      <td>5.0</td>\n",
       "    </tr>\n",
       "    <tr>\n",
       "      <th>2</th>\n",
       "      <td>Drive Type</td>\n",
       "      <td>718</td>\n",
       "      <td>12.0</td>\n",
       "    </tr>\n",
       "    <tr>\n",
       "      <th>3</th>\n",
       "      <td>Steering Type</td>\n",
       "      <td>897</td>\n",
       "      <td>15.0</td>\n",
       "    </tr>\n",
       "    <tr>\n",
       "      <th>4</th>\n",
       "      <td>Wheel Base</td>\n",
       "      <td>299</td>\n",
       "      <td>5.0</td>\n",
       "    </tr>\n",
       "    <tr>\n",
       "      <th>5</th>\n",
       "      <td>Kerb Weight</td>\n",
       "      <td>1076</td>\n",
       "      <td>18.0</td>\n",
       "    </tr>\n",
       "    <tr>\n",
       "      <th>6</th>\n",
       "      <td>No. of Doors</td>\n",
       "      <td>299</td>\n",
       "      <td>5.0</td>\n",
       "    </tr>\n",
       "    <tr>\n",
       "      <th>7</th>\n",
       "      <td>Ground Clearance Unladen</td>\n",
       "      <td>3767</td>\n",
       "      <td>63.0</td>\n",
       "    </tr>\n",
       "  </tbody>\n",
       "</table>\n",
       "</div>"
      ],
      "text/plain": [
       "                   col_name  count  percentage_%\n",
       "0                  locality    598          10.0\n",
       "1               Engine Type    299           5.0\n",
       "2                Drive Type    718          12.0\n",
       "3             Steering Type    897          15.0\n",
       "4                Wheel Base    299           5.0\n",
       "5               Kerb Weight   1076          18.0\n",
       "6              No. of Doors    299           5.0\n",
       "7  Ground Clearance Unladen   3767          63.0"
      ]
     },
     "execution_count": 8,
     "metadata": {},
     "output_type": "execute_result"
    }
   ],
   "source": [
    "count_of_missing"
   ]
  },
  {
   "cell_type": "markdown",
   "metadata": {},
   "source": [
    "#### Check Duplicated Values"
   ]
  },
  {
   "cell_type": "code",
   "execution_count": 709,
   "metadata": {},
   "outputs": [
    {
     "data": {
      "text/plain": [
       "5959"
      ]
     },
     "execution_count": 709,
     "metadata": {},
     "output_type": "execute_result"
    }
   ],
   "source": [
    "car_df.duplicated().sum()"
   ]
  },
  {
   "cell_type": "code",
   "execution_count": 707,
   "metadata": {},
   "outputs": [
    {
     "data": {
      "text/plain": [
       "20"
      ]
     },
     "execution_count": 707,
     "metadata": {},
     "output_type": "execute_result"
    }
   ],
   "source": [
    "car_df.shape[0] - car_df['centralVariantId'].duplicated().sum()"
   ]
  },
  {
   "cell_type": "markdown",
   "metadata": {},
   "source": [
    "Here duplicated value will be present because model can come multiple times."
   ]
  },
  {
   "cell_type": "markdown",
   "metadata": {},
   "source": [
    "### Data Cleaning"
   ]
  },
  {
   "cell_type": "markdown",
   "metadata": {},
   "source": [
    "After the intial evaluation let's clean the data so first start with the standardizing the column name"
   ]
  },
  {
   "cell_type": "code",
   "execution_count": 529,
   "metadata": {},
   "outputs": [
    {
     "data": {
      "text/plain": [
       "Index(['centralvariantid', 'model_year', 'model_name', 'variant_name',\n",
       "       'car_oem', 'owner', 'owner_slug', 'km', 'ft', 'tt', 'msp', 'city',\n",
       "       'locality', 'engine_type', 'displacement', 'max_power', 'max_torque',\n",
       "       'no._of_cylinders', 'valves_per_cylinder', 'gearbox', 'drive_type',\n",
       "       'emission_norm_compliance', 'steering_type', 'length', 'width',\n",
       "       'height', 'seating_capacity', 'wheel_base', 'kerb_weight',\n",
       "       'no._of_doors', 'ground_clearance_unladen'],\n",
       "      dtype='object')"
      ]
     },
     "execution_count": 529,
     "metadata": {},
     "output_type": "execute_result"
    }
   ],
   "source": [
    "# clean a column names\n",
    "car_df.columns = car_df.columns.str.replace(\" \", \"_\").str.lower()\n",
    "car_df.columns"
   ]
  },
  {
   "cell_type": "markdown",
   "metadata": {},
   "source": [
    "There are column like ft, and tt which is abbrevations of fuel_type, transmission_type, and msp. "
   ]
  },
  {
   "cell_type": "code",
   "execution_count": 530,
   "metadata": {},
   "outputs": [],
   "source": [
    "# Rename column_name for clarity\n",
    "car_df.rename(columns={\"ft\":\"fuel_type\", \"tt\": \"transmission_type\", \"msp\":\"price\"}, inplace=True)"
   ]
  },
  {
   "cell_type": "code",
   "execution_count": 531,
   "metadata": {},
   "outputs": [
    {
     "data": {
      "text/plain": [
       "car_oem  model_name\n",
       "BMW      BMW XM        1\n",
       "Name: count, dtype: int64"
      ]
     },
     "execution_count": 531,
     "metadata": {},
     "output_type": "execute_result"
    }
   ],
   "source": [
    "# Check null data in engine_type\n",
    "car_df[car_df['engine_type'].isnull()][['car_oem', 'variant_name']].nunique()\n",
    "# or\n",
    "car_df.groupby(car_df['engine_type'].isnull() == False)['car_oem'].value_counts().head(1)\n",
    "# or\n",
    "car_df[car_df['engine_type'].isnull()][['car_oem', 'model_name']].value_counts()"
   ]
  },
  {
   "cell_type": "markdown",
   "metadata": {},
   "source": [
    "There are 299 missing value in engine type, and when I run the above code it's show it's related to BMW specific model. To fix this I can check engine type from internet and impute that value."
   ]
  },
  {
   "cell_type": "code",
   "execution_count": 532,
   "metadata": {},
   "outputs": [],
   "source": [
    "# Impute engine_type of BMW\n",
    "car_df['engine_type'].fillna(\"4.4-litre V8 Petrol Engine\", inplace=True)"
   ]
  },
  {
   "cell_type": "markdown",
   "metadata": {},
   "source": [
    "Let's fix the number of doors"
   ]
  },
  {
   "cell_type": "code",
   "execution_count": 533,
   "metadata": {},
   "outputs": [
    {
     "data": {
      "text/plain": [
       "no._of_doors  car_oem   \n",
       "False         Land Rover    1\n",
       "Name: count, dtype: int64"
      ]
     },
     "execution_count": 533,
     "metadata": {},
     "output_type": "execute_result"
    }
   ],
   "source": [
    "car_df.groupby(car_df['no._of_doors'].isnull()==False)['car_oem'].value_counts().head(1)"
   ]
  },
  {
   "cell_type": "markdown",
   "metadata": {},
   "source": [
    "Now get into more details of Land Rover"
   ]
  },
  {
   "cell_type": "code",
   "execution_count": 534,
   "metadata": {},
   "outputs": [
    {
     "data": {
      "text/html": [
       "<div>\n",
       "<style scoped>\n",
       "    .dataframe tbody tr th:only-of-type {\n",
       "        vertical-align: middle;\n",
       "    }\n",
       "\n",
       "    .dataframe tbody tr th {\n",
       "        vertical-align: top;\n",
       "    }\n",
       "\n",
       "    .dataframe thead th {\n",
       "        text-align: right;\n",
       "    }\n",
       "</style>\n",
       "<table border=\"1\" class=\"dataframe\">\n",
       "  <thead>\n",
       "    <tr style=\"text-align: right;\">\n",
       "      <th></th>\n",
       "      <th>model_name</th>\n",
       "      <th>variant_name</th>\n",
       "      <th>steering_type</th>\n",
       "      <th>no._of_doors</th>\n",
       "      <th>ground_clearance_unladen</th>\n",
       "    </tr>\n",
       "  </thead>\n",
       "  <tbody>\n",
       "    <tr>\n",
       "      <th>17</th>\n",
       "      <td>Land Rover Range Rover Sport</td>\n",
       "      <td>3.0 Diesel Dynamic HSE</td>\n",
       "      <td>NaN</td>\n",
       "      <td>NaN</td>\n",
       "      <td>NaN</td>\n",
       "    </tr>\n",
       "  </tbody>\n",
       "</table>\n",
       "</div>"
      ],
      "text/plain": [
       "                      model_name            variant_name steering_type  \\\n",
       "17  Land Rover Range Rover Sport  3.0 Diesel Dynamic HSE           NaN   \n",
       "\n",
       "    no._of_doors ground_clearance_unladen  \n",
       "17           NaN                      NaN  "
      ]
     },
     "execution_count": 534,
     "metadata": {},
     "output_type": "execute_result"
    }
   ],
   "source": [
    "car_df.loc[(car_df['model_name'] == \"Land Rover Range Rover Sport\") &\n",
    "           (car_df['variant_name'] == \"3.0 Diesel Dynamic HSE\"),\n",
    "           ['model_name', 'variant_name', 'steering_type', 'no._of_doors', 'ground_clearance_unladen']\n",
    "]"
   ]
  },
  {
   "cell_type": "markdown",
   "metadata": {},
   "source": [
    "Let's impute the steering_type, no._of_doors, and ground_clearance_unladen with the right data extracted from internet."
   ]
  },
  {
   "cell_type": "code",
   "execution_count": 535,
   "metadata": {},
   "outputs": [],
   "source": [
    "car_df.loc[\n",
    "    (car_df['model_name'] == \"Land Rover Range Rover Sport\") &\n",
    "    (car_df['variant_name'] == \"3.0 Diesel Dynamic HSE\"),\n",
    "    'ground_clearance_unladen'\n",
    "] = 216\n",
    "\n",
    "car_df.loc[\n",
    "    (car_df['model_name'] == \"Land Rover Range Rover Sport\") &\n",
    "    (car_df['variant_name'] == \"3.0 Diesel Dynamic HSE\"),\n",
    "    'no._of_doors'\n",
    "] = 5\n",
    "\n",
    "car_df.loc[\n",
    "    (car_df['model_name'] == \"Land Rover Range Rover Sport\") &\n",
    "    (car_df['variant_name'] == \"3.0 Diesel Dynamic HSE\"),\n",
    "    'steering_type'\n",
    "] = \"Electric Power Steering\""
   ]
  },
  {
   "cell_type": "markdown",
   "metadata": {},
   "source": [
    "As the one car detail was manually imputed with the available data from internet."
   ]
  },
  {
   "cell_type": "code",
   "execution_count": 536,
   "metadata": {},
   "outputs": [],
   "source": [
    "car_df['wheel_base'].fillna(\"2651 mm\", inplace=True)"
   ]
  },
  {
   "cell_type": "markdown",
   "metadata": {},
   "source": [
    "In drive_type 718 values are null. Let's check which car_oem is responsible for it."
   ]
  },
  {
   "cell_type": "code",
   "execution_count": 537,
   "metadata": {},
   "outputs": [
    {
     "data": {
      "text/plain": [
       "drive_type  car_oem  model_name    \n",
       "False       Renault  Renault Kiger     2\n",
       "            Nissan   Nissan Magnite    1\n",
       "Name: count, dtype: int64"
      ]
     },
     "execution_count": 537,
     "metadata": {},
     "output_type": "execute_result"
    }
   ],
   "source": [
    "car_df.groupby(car_df['drive_type'].isnull() == False)[['car_oem', 'model_name']].value_counts().head(2)"
   ]
  },
  {
   "cell_type": "markdown",
   "metadata": {},
   "source": [
    "There are some null values in drive_type, so before imputing first check what are the unique values that are available"
   ]
  },
  {
   "cell_type": "code",
   "execution_count": 538,
   "metadata": {},
   "outputs": [
    {
     "data": {
      "text/plain": [
       "array(['4x2', 'RWD', 'AWD', 'FWD', nan, '4WD', '2WD'], dtype=object)"
      ]
     },
     "execution_count": 538,
     "metadata": {},
     "output_type": "execute_result"
    }
   ],
   "source": [
    "# Check unique type of drive_type\n",
    "car_df.drive_type.unique()"
   ]
  },
  {
   "cell_type": "code",
   "execution_count": 539,
   "metadata": {},
   "outputs": [],
   "source": [
    "car_df.loc[\n",
    "    (car_df['model_name'] == 'Renault Kiger'),\n",
    "    'drive_type'\n",
    "] = \"FWD\"\n",
    "\n",
    "car_df.loc[\n",
    "    (car_df['model_name'] == 'Renault Kiger'),\n",
    "    'drive_type'\n",
    "] = \"FWD\"\n",
    "\n",
    "car_df.loc[\n",
    "    (car_df['model_name'] == \"Nissan Magnite\"),\n",
    "    'drive_type'\n",
    "] = \"FWD\""
   ]
  },
  {
   "cell_type": "markdown",
   "metadata": {},
   "source": [
    "Afte cleaning null value of drive_type let's see how we can fix steering_type"
   ]
  },
  {
   "cell_type": "code",
   "execution_count": 540,
   "metadata": {},
   "outputs": [
    {
     "data": {
      "text/plain": [
       "steering_type  car_oem  model_name   \n",
       "False          Jaguar   Jaguar F-Pace    1\n",
       "               Tata     Tata Tigor       1\n",
       "Name: count, dtype: int64"
      ]
     },
     "execution_count": 540,
     "metadata": {},
     "output_type": "execute_result"
    }
   ],
   "source": [
    "car_df.groupby(car_df['steering_type'].isnull() == False)[['car_oem', 'model_name']].value_counts().head(2)"
   ]
  },
  {
   "cell_type": "code",
   "execution_count": 541,
   "metadata": {},
   "outputs": [],
   "source": [
    "# Impute Tata Information\n",
    "car_df.loc[(car_df['car_oem'] == \"Tata\") & \n",
    "(car_df['model_name'] == \"Tata Tigor\"),\n",
    "\"steering_type\",\n",
    "] = \"Power Steering\"\n",
    "\n",
    "car_df.loc[(car_df['car_oem'] == \"Tata\") & \n",
    "(car_df['model_name'] == \"Tata Tigor\"),\n",
    "\"ground_clearance_unladen\",\n",
    "] = \"170 mm\"\n",
    "\n",
    "car_df.loc[(car_df['car_oem'] == \"Tata\") & \n",
    "(car_df['model_name'] == \"Tata Tigor\"),\n",
    "\"kerb_weight\",\n",
    "] = \"1035 kg\""
   ]
  },
  {
   "cell_type": "code",
   "execution_count": 542,
   "metadata": {},
   "outputs": [
    {
     "data": {
      "text/plain": [
       "array(['Power', 'Electric', nan, 'Power Steering',\n",
       "       'Electric Power Steering', 'Electrical', 'Electronic'],\n",
       "      dtype=object)"
      ]
     },
     "execution_count": 542,
     "metadata": {},
     "output_type": "execute_result"
    }
   ],
   "source": [
    "car_df.steering_type.unique()"
   ]
  },
  {
   "cell_type": "code",
   "execution_count": 543,
   "metadata": {},
   "outputs": [],
   "source": [
    "# Impute Jaguar information\n",
    "car_df.loc[(car_df['car_oem'] == \"Jaguar\") & \n",
    "(car_df['model_name'] == \"Jaguar F-Pace\"),\n",
    "\"steering_type\",\n",
    "] = \"Electric Power Steering \"\n",
    "\n",
    "car_df.loc[(car_df['car_oem'] == \"Jaguar\") & \n",
    "(car_df['model_name'] == \"Jaguar F-Pace\"),\n",
    "\"ground_clearance_unladen\",\n",
    "] = \"213 mm\"\n",
    "\n",
    "# Impute Audi Q7 information\n",
    "car_df.loc[\n",
    "    (car_df['car_oem'] == 'Audi') & \n",
    "    (car_df['model_name'] == 'Audi Q7'),\n",
    "    'kerb_weight', \n",
    "    ] = \"2270 kg\"\n",
    "\n",
    "car_df.loc[\n",
    "    (car_df['car_oem'] == 'Audi') & \n",
    "    (car_df['model_name'] == 'Audi Q7'),\n",
    "    'ground_clearance_unladen', \n",
    "    ] = \"200 mm\"\n",
    "\n",
    "# Impute Hyundai Exter Information\n",
    "car_df.loc[\n",
    "    (car_df['car_oem'] == 'Hyundai') & \n",
    "    (car_df['model_name'] == 'Hyundai Exter'),\n",
    "    'kerb_weight', \n",
    "    ] = \"1010 kg\"\n",
    "\n",
    "car_df.loc[\n",
    "    (car_df['car_oem'] == 'Hyundai') & \n",
    "    (car_df['model_name'] == 'Hyundai Exter'),\n",
    "    'ground_clearance_unladen', \n",
    "    ] = \"185 mm\"\n",
    "\n",
    "# Impute MG Astor Information\n",
    "car_df.loc[\n",
    "    (car_df['car_oem'] == 'MG') & \n",
    "    (car_df['model_name'] == 'MG Astor'),\n",
    "    'kerb_weight', \n",
    "    ] = \"1275 kg\"\n",
    "\n",
    "car_df.loc[\n",
    "    (car_df['car_oem'] == 'MG') & \n",
    "    (car_df['model_name'] == 'MG Astor'),\n",
    "    'ground_clearance_unladen', \n",
    "    ] = \"180 mm\"\n"
   ]
  },
  {
   "cell_type": "code",
   "execution_count": 544,
   "metadata": {},
   "outputs": [
    {
     "data": {
      "text/plain": [
       "ground_clearance_unladen  car_oem        model_name                 \n",
       "False                     Audi           Audi Q3 Sportback              1\n",
       "                                         Audi Q5                        1\n",
       "                                         Audi Q8                        1\n",
       "                          BMW            BMW 3 Series Gran Limousine    1\n",
       "                                         BMW XM                         1\n",
       "                          Jeep           Jeep Compass                   1\n",
       "                          Mercedes-Benz  Mercedes-Benz GLC              1\n",
       "True                      Mercedes-Benz  Mercedes-Benz GLE              2\n",
       "                          Renault        Renault Kiger                  2\n",
       "                          Audi           Audi Q7                        1\n",
       "                          Hyundai        Hyundai Exter                  1\n",
       "                                         Hyundai Verna                  1\n",
       "                                         Hyundai i10                    1\n",
       "                          Jaguar         Jaguar F-Pace                  1\n",
       "Name: count, dtype: int64"
      ]
     },
     "execution_count": 544,
     "metadata": {},
     "output_type": "execute_result"
    }
   ],
   "source": [
    "# Check kerb_weight\n",
    "car_df.groupby(car_df['ground_clearance_unladen'].isnull() == False)[['car_oem', 'model_name']].value_counts().head(14)"
   ]
  },
  {
   "cell_type": "markdown",
   "metadata": {},
   "source": [
    "Verify the data of the particular oem, and model name to ensure that every model is same."
   ]
  },
  {
   "cell_type": "code",
   "execution_count": null,
   "metadata": {},
   "outputs": [],
   "source": [
    "car_df[(car_df['car_oem'] == 'Mercedes-Benz') & \n",
    "(car_df['model_name'] == 'Mercedes-Benz GLC')].sample(5)"
   ]
  },
  {
   "cell_type": "code",
   "execution_count": 546,
   "metadata": {},
   "outputs": [],
   "source": [
    "# Audi Ground Clearance Impute\n",
    "car_df.loc[\n",
    "    (car_df['car_oem'] == 'Audi') & \n",
    "    (car_df['model_name'] == 'Audi Q3 Sportback'),\n",
    "    'ground_clearance_unladen', \n",
    "    ] = \"170 mm\"\n",
    "\n",
    "car_df.loc[\n",
    "    (car_df['car_oem'] == 'Audi') & \n",
    "    (car_df['model_name'] == 'Audi Q5'),\n",
    "    'ground_clearance_unladen', \n",
    "    ] = \"200 mm\"\n",
    "\n",
    "car_df.loc[\n",
    "    (car_df['car_oem'] == 'Audi') & \n",
    "    (car_df['model_name'] == 'Audi Q8'),\n",
    "    'ground_clearance_unladen', \n",
    "    ] = \"254 mm\"\n",
    "\n",
    "# BMW Ground Clearance Impute\n",
    "car_df.loc[\n",
    "    (car_df['car_oem'] == 'BMW') & \n",
    "    (car_df['model_name'] == 'BMW 3 Series Gran Limousine'),\n",
    "    'ground_clearance_unladen', \n",
    "    ] = \"165 mm\"\n",
    "\n",
    "car_df.loc[\n",
    "    (car_df['car_oem'] == 'BMW') & \n",
    "    (car_df['model_name'] == 'BMW XM'),\n",
    "    'ground_clearance_unladen', \n",
    "    ] = \"205 mm\"\n",
    "\n",
    "# Jeep Ground Clearance Impute\n",
    "car_df.loc[\n",
    "    (car_df['car_oem'] == 'Jeep') & \n",
    "    (car_df['model_name'] == 'Jeep Compass'),\n",
    "    'ground_clearance_unladen', \n",
    "    ] = \"178 mm\"\n",
    "\n",
    "car_df.loc[\n",
    "    (car_df['car_oem'] == 'Mercedes-Benz') & \n",
    "    (car_df['model_name'] == 'Mercedes-Benz GLC'),\n",
    "    'ground_clearance_unladen', \n",
    "    ] = \"201 mm\"\n"
   ]
  },
  {
   "cell_type": "code",
   "execution_count": 547,
   "metadata": {},
   "outputs": [
    {
     "data": {
      "text/plain": [
       "centralvariantid            0\n",
       "model_year                  0\n",
       "model_name                  0\n",
       "variant_name                0\n",
       "car_oem                     0\n",
       "owner                       0\n",
       "owner_slug                  0\n",
       "km                          0\n",
       "fuel_type                   0\n",
       "transmission_type           0\n",
       "price                       0\n",
       "city                        0\n",
       "locality                    2\n",
       "engine_type                 0\n",
       "displacement                0\n",
       "max_power                   0\n",
       "max_torque                  0\n",
       "no._of_cylinders            0\n",
       "valves_per_cylinder         0\n",
       "gearbox                     0\n",
       "drive_type                  0\n",
       "emission_norm_compliance    0\n",
       "steering_type               0\n",
       "length                      0\n",
       "width                       0\n",
       "height                      0\n",
       "seating_capacity            0\n",
       "wheel_base                  0\n",
       "kerb_weight                 0\n",
       "no._of_doors                0\n",
       "ground_clearance_unladen    0\n",
       "dtype: int64"
      ]
     },
     "execution_count": 547,
     "metadata": {},
     "output_type": "execute_result"
    }
   ],
   "source": [
    "car_df.isnull().sum()"
   ]
  },
  {
   "cell_type": "markdown",
   "metadata": {},
   "source": [
    "##### Drop"
   ]
  },
  {
   "cell_type": "code",
   "execution_count": 548,
   "metadata": {},
   "outputs": [],
   "source": [
    "# Drop centralvariantid, owner_slug\n",
    "car_df.drop(columns=[\"centralvariantid\", \"owner_slug\", \"locality\"], axis=1, inplace=True)"
   ]
  },
  {
   "cell_type": "code",
   "execution_count": 549,
   "metadata": {},
   "outputs": [],
   "source": [
    "missing_free_df = car_df"
   ]
  },
  {
   "cell_type": "code",
   "execution_count": 550,
   "metadata": {},
   "outputs": [
    {
     "data": {
      "text/plain": [
       "Index(['model_year', 'model_name', 'variant_name', 'car_oem', 'owner', 'km',\n",
       "       'fuel_type', 'transmission_type', 'price', 'city', 'engine_type',\n",
       "       'displacement', 'max_power', 'max_torque', 'no._of_cylinders',\n",
       "       'valves_per_cylinder', 'gearbox', 'drive_type',\n",
       "       'emission_norm_compliance', 'steering_type', 'length', 'width',\n",
       "       'height', 'seating_capacity', 'wheel_base', 'kerb_weight',\n",
       "       'no._of_doors', 'ground_clearance_unladen'],\n",
       "      dtype='object')"
      ]
     },
     "execution_count": 550,
     "metadata": {},
     "output_type": "execute_result"
    }
   ],
   "source": [
    "missing_free_df.columns"
   ]
  },
  {
   "cell_type": "markdown",
   "metadata": {},
   "source": [
    "Standardize the data"
   ]
  },
  {
   "cell_type": "markdown",
   "metadata": {},
   "source": [
    "To standardize data first we have to check what are the uniques values are available in the columns, once we find the information we can group with right mapping."
   ]
  },
  {
   "cell_type": "code",
   "execution_count": 551,
   "metadata": {},
   "outputs": [
    {
     "name": "stdout",
     "output_type": "stream",
     "text": [
      "car_oem: ['Jeep', 'BMW', 'Audi', 'Mercedes-Benz', 'Hyundai', 'Renault', 'Jaguar', 'Tata', 'Land Rover', 'MG', 'Nissan']\n",
      "owner: [1, 0, 2]\n",
      "fuel_type: ['Petrol', 'Diesel']\n",
      "transmission_type: ['Automatic', 'Manual']\n",
      "city: ['Kolkata', 'Coimbatore', 'Guwahati', 'Gurgaon', 'Mumbai', 'New Delhi', 'Hyderabad', 'Ahmedabad']\n",
      "gearbox: ['7 Speed DCT', '8-Speed AT', '7-Speed', '9 speed Tronic', '9G-TRONIC', '7-Speed AT', '5 Speed', '5 Speed AMT', '8-Speed', '5-Speed AMT', '5-Speed']\n",
      "drive_type: ['4x2', 'RWD', 'AWD', 'FWD', '4WD', '2WD']\n",
      "emission_norm_compliance: ['BS VI', 'BS VI 2.0', 'BSIV', 'BS IV']\n",
      "steering_type: ['Power', 'Electric', 'Electric Power Steering ', 'Power Steering', 'Electric Power Steering', 'Electrical', 'Electronic']\n",
      "seating_capacity: [5, 7]\n",
      "no._of_doors: [5.0, 4.0]\n"
     ]
    }
   ],
   "source": [
    "# Check for all the unique value\n",
    "check_standardize_col_name = ['car_oem', 'owner', 'fuel_type', 'transmission_type', 'city', 'gearbox', 'drive_type', 'emission_norm_compliance', 'steering_type', 'seating_capacity', 'no._of_doors']\n",
    "for col_name in check_standardize_col_name:\n",
    "    print(f\"{col_name}: {missing_free_df[col_name].unique().tolist()}\")"
   ]
  },
  {
   "cell_type": "markdown",
   "metadata": {},
   "source": [
    "As you can see there are some inconsistency in drive_type, emission_norm_compliance, and steering_type."
   ]
  },
  {
   "cell_type": "code",
   "execution_count": 552,
   "metadata": {},
   "outputs": [
    {
     "data": {
      "text/plain": [
       "array(['2WD', '4WD'], dtype=object)"
      ]
     },
     "execution_count": 552,
     "metadata": {},
     "output_type": "execute_result"
    }
   ],
   "source": [
    "# Fix inconsistency in drive_type\n",
    "missing_free_df['drive_type'].replace({\n",
    "    '4x2': '2WD',\n",
    "    '2WD': '2WD',\n",
    "    'RWD': '2WD',\n",
    "    '4WD': '4WD',\n",
    "    'FWD': '4WD',\n",
    "    'AWD': '4WD',\n",
    "\n",
    "}, inplace=True)\n",
    "\n",
    "missing_free_df['drive_type'].unique()"
   ]
  },
  {
   "cell_type": "code",
   "execution_count": 553,
   "metadata": {},
   "outputs": [
    {
     "data": {
      "text/plain": [
       "array(['BS VI', 'BS VI 2.0', 'BS IV'], dtype=object)"
      ]
     },
     "execution_count": 553,
     "metadata": {},
     "output_type": "execute_result"
    }
   ],
   "source": [
    "# Fix inconsistency in emission_norm_compliance\n",
    "missing_free_df['emission_norm_compliance'].replace({\n",
    "    'BSIV': 'BS IV'\n",
    "}, inplace=True)\n",
    "\n",
    "missing_free_df['emission_norm_compliance'].unique()"
   ]
  },
  {
   "cell_type": "code",
   "execution_count": 554,
   "metadata": {},
   "outputs": [
    {
     "data": {
      "text/plain": [
       "array(['Power', 'Electric', 'Electric Power Steering ', 'Power Steering',\n",
       "       'Electric Power Steering', 'Electrical', 'Electronic'],\n",
       "      dtype=object)"
      ]
     },
     "execution_count": 554,
     "metadata": {},
     "output_type": "execute_result"
    }
   ],
   "source": [
    "missing_free_df['steering_type'].unique()"
   ]
  },
  {
   "cell_type": "code",
   "execution_count": 555,
   "metadata": {},
   "outputs": [
    {
     "data": {
      "text/plain": [
       "array(['Power Steering', 'Electric Power Steering'], dtype=object)"
      ]
     },
     "execution_count": 555,
     "metadata": {},
     "output_type": "execute_result"
    }
   ],
   "source": [
    "# Fix inconsistency in steering_type\n",
    "steering_type_map = {\n",
    "    'Power': 'Power Steering',\n",
    "    'Power Steering': 'Power Steering',\n",
    "    'Electric' : 'Electric Power Steering',\n",
    "    'Electric Power Steering': 'Electric Power Steering',\n",
    "    'Electric Power Steering ': 'Electric Power Steering',\n",
    "    'Electrical': 'Electric Power Steering',\n",
    "    'Electronic': 'Electric Power Steering'\n",
    "}\n",
    "\n",
    "missing_free_df['steering_type'] = missing_free_df['steering_type'].map(steering_type_map)\n",
    "\n",
    "missing_free_df['steering_type'].unique()"
   ]
  },
  {
   "cell_type": "code",
   "execution_count": 556,
   "metadata": {},
   "outputs": [
    {
     "data": {
      "text/plain": [
       "array(['7-Speed DCT', '8-Speed AT', '9-Speed AT', '7-Speed AT',\n",
       "       '5-Speed MT', '5-Speed AMT'], dtype=object)"
      ]
     },
     "execution_count": 556,
     "metadata": {},
     "output_type": "execute_result"
    }
   ],
   "source": [
    "# Fix inconsitency in gear_box\n",
    "gear_box_map = {\n",
    "    '7 Speed DCT': '7-Speed DCT',\n",
    "    '7-Speed': '7-Speed DCT',\n",
    "    '7-Speed AT': '7-Speed AT',\n",
    "\n",
    "    '8-Speed AT': '8-Speed AT',\n",
    "    '8-Speed': '8-Speed AT',\n",
    "    \n",
    "    '9 speed Tronic': '9-Speed AT',\n",
    "    '9G-TRONIC': '9-Speed AT',\n",
    "\n",
    "    '5 Speed': '5-Speed MT',\n",
    "    '5-Speed': '5-Speed MT',\n",
    "    '5 Speed AMT': '5-Speed AMT',\n",
    "    '5-Speed AMT': '5-Speed AMT'\n",
    "}\n",
    "\n",
    "missing_free_df['gearbox'] = missing_free_df['gearbox'].map(gear_box_map)\n",
    "missing_free_df['gearbox'].unique()"
   ]
  },
  {
   "cell_type": "markdown",
   "metadata": {},
   "source": [
    "##### Set right data type"
   ]
  },
  {
   "cell_type": "markdown",
   "metadata": {},
   "source": [
    "kerb_weight(kg) to int\n",
    "no_of_doors to int\n",
    "ground_clearance_unladen(mm) int "
   ]
  },
  {
   "cell_type": "code",
   "execution_count": 557,
   "metadata": {},
   "outputs": [],
   "source": [
    "# km convert to int or float\n",
    "missing_free_df['km'] = missing_free_df['km'].replace(\",\", \"\", regex=True).astype(int)\n",
    "\n",
    "# displacement convert to int\n",
    "missing_free_df['displacement(cc)'] = missing_free_df['displacement'].str.extract(\"(\\d+)\").astype(int)\n",
    "\n",
    "# max_power convert to int\n",
    "missing_free_df['max_power(bhp)'] = missing_free_df['max_power'].str.extract(\"(\\d+)\").astype(int)\n",
    "\n",
    "# max_torque convert to int\n",
    "missing_free_df['max_torque(Nm)'] = missing_free_df['max_torque'].str.extract(\"(\\d+)\").astype(int)\n",
    "\n",
    "# wheel_base convert to int\n",
    "missing_free_df['wheel_base(mm)'] = missing_free_df['wheel_base'].str.extract(\"(\\d+)\").astype(int)\n",
    "\n",
    "# length convert to int\n",
    "missing_free_df['length(mm)'] = missing_free_df['length'].str.extract(\"(\\d+)\").astype(int)\n",
    "\n",
    "# width convert to int\n",
    "missing_free_df['width(mm)'] = missing_free_df['width'].str.extract(\"(\\d+)\").astype(int)\n",
    "\n",
    "# height convert to int\n",
    "missing_free_df['height(mm)'] = missing_free_df['height'].str.extract(\"(\\d+)\").astype(int)\n",
    "\n",
    "# height convert to int\n",
    "missing_free_df['kerb_weight(kg)'] = missing_free_df['kerb_weight'].str.extract(\"(\\d+)\").astype(int)\n",
    "\n",
    "# no_of_doors to int\n",
    "missing_free_df['no_of_doors'] = missing_free_df['no._of_doors'].astype(int)\n",
    "\n",
    "# ground_clearance_unladen to int\n",
    "missing_free_df['ground_clearance_unladen(mm)'] = missing_free_df['ground_clearance_unladen'].str.extract(\"(\\d+)\").astype(float)\n"
   ]
  },
  {
   "cell_type": "code",
   "execution_count": 558,
   "metadata": {},
   "outputs": [],
   "source": [
    "missing_free_df.loc[\n",
    "    (car_df['model_name'] == \"Land Rover Range Rover Sport\") &\n",
    "    (car_df['variant_name'] == \"3.0 Diesel Dynamic HSE\"),\n",
    "    'ground_clearance_unladen(mm)'\n",
    "] = 216"
   ]
  },
  {
   "cell_type": "code",
   "execution_count": null,
   "metadata": {},
   "outputs": [],
   "source": [
    "remove_col = ['displacement', 'max_power', 'no._of_doors', 'ground_clearance_unladen', 'wheel_base','kerb_weight', 'height', 'width', 'max_torque', 'length']\n",
    "for col_name in remove_col:\n",
    "    missing_free_df.drop(columns=remove_col, inplace=True)"
   ]
  },
  {
   "cell_type": "code",
   "execution_count": 560,
   "metadata": {},
   "outputs": [
    {
     "data": {
      "text/plain": [
       "model_year                      0\n",
       "model_name                      0\n",
       "variant_name                    0\n",
       "car_oem                         0\n",
       "owner                           0\n",
       "km                              0\n",
       "fuel_type                       0\n",
       "transmission_type               0\n",
       "price                           0\n",
       "city                            0\n",
       "engine_type                     0\n",
       "no._of_cylinders                0\n",
       "valves_per_cylinder             0\n",
       "gearbox                         0\n",
       "drive_type                      0\n",
       "emission_norm_compliance        0\n",
       "steering_type                   0\n",
       "seating_capacity                0\n",
       "displacement(cc)                0\n",
       "max_power(bhp)                  0\n",
       "max_torque(Nm)                  0\n",
       "wheel_base(mm)                  0\n",
       "length(mm)                      0\n",
       "width(mm)                       0\n",
       "height(mm)                      0\n",
       "kerb_weight(kg)                 0\n",
       "no_of_doors                     0\n",
       "ground_clearance_unladen(mm)    0\n",
       "dtype: int64"
      ]
     },
     "execution_count": 560,
     "metadata": {},
     "output_type": "execute_result"
    }
   ],
   "source": [
    "missing_free_df.isnull().sum()"
   ]
  },
  {
   "cell_type": "code",
   "execution_count": 561,
   "metadata": {},
   "outputs": [],
   "source": [
    "clean_car_df = missing_free_df.copy()"
   ]
  },
  {
   "cell_type": "markdown",
   "metadata": {},
   "source": [
    "#### Handling Outliers"
   ]
  },
  {
   "cell_type": "code",
   "execution_count": 562,
   "metadata": {},
   "outputs": [],
   "source": [
    "outlier_data_check_list = ['model_year','km','price', 'displacement(cc)', 'max_power(bhp)', 'max_torque(Nm)', 'length(mm)',\n",
    "                            'width(mm)', 'height(mm)', 'kerb_weight(kg)', 'ground_clearance_unladen(mm)', 'wheel_base(mm)']"
   ]
  },
  {
   "cell_type": "code",
   "execution_count": 563,
   "metadata": {},
   "outputs": [
    {
     "data": {
      "image/png": "[encoded data removed]",
      "text/plain": [
       "<Figure size 1000x1500 with 12 Axes>"
      ]
     },
     "metadata": {},
     "output_type": "display_data"
    }
   ],
   "source": [
    "fig, axes = plt.subplots(ncols=3, nrows=4, figsize=(10, 3 * 5))\n",
    "axes = axes.flatten()\n",
    "\n",
    "for i, col_name in enumerate(outlier_data_check_list):\n",
    "    sns.boxplot(y=clean_car_df[col_name], ax=axes[i], color='skyblue')\n",
    "    axes[i].set_title(col_name)\n",
    "    \n",
    "plt.tight_layout()\n",
    "plt.show()"
   ]
  },
  {
   "cell_type": "code",
   "execution_count": null,
   "metadata": {},
   "outputs": [],
   "source": [
    "# Outlier Detection"
   ]
  },
  {
   "cell_type": "markdown",
   "metadata": {},
   "source": [
    "### Feature Engineering"
   ]
  },
  {
   "cell_type": "markdown",
   "metadata": {},
   "source": [
    "Now, will do some transformation on the data prior to that let's save the file into a system."
   ]
  },
  {
   "cell_type": "code",
   "execution_count": 564,
   "metadata": {},
   "outputs": [],
   "source": [
    "#clean_car_df.drop(columns=['car_km_log', 'price_log'], inplace=True)\n",
    "clean_car_df.to_csv(\"clean_car.csv\")\n",
    "df = clean_car_df.copy()"
   ]
  },
  {
   "cell_type": "markdown",
   "metadata": {},
   "source": [
    "Since both kilometers and price can vary significantly across different car models, their raw values may dominate the model’s learning process. \n",
    "\n",
    "To prevent the model from prioritizing these features excessively, we apply a log transformation. This transformation not only scales down large values but also helps in normalizing the distribution, making it more symmetric and suitable for linear regression-based models."
   ]
  },
  {
   "cell_type": "code",
   "execution_count": 565,
   "metadata": {},
   "outputs": [],
   "source": [
    "# log tansform on km and price\n",
    "df['car_km_log'] = np.log(df['km'] + 1)\n",
    "df.insert(df.columns.get_loc('km') + 1, 'car_km_log', df.pop('car_km_log'))\n",
    "\n",
    "df['price_log'] = np.log(df['price'] + 1)\n",
    "df.insert(df.columns.get_loc(\"price\") + 1, 'price_log', df.pop('price_log'))"
   ]
  },
  {
   "cell_type": "markdown",
   "metadata": {},
   "source": [
    "### Scaling"
   ]
  },
  {
   "cell_type": "markdown",
   "metadata": {},
   "source": [
    "As we move forward in building our model, we need to convert nominal categorical data into a numerical format that machine learning algorithms can interpret. To achieve this, we use **one-hot encoding**, which creates new binary columns for each unique category in a feature. \n",
    "\n",
    "Whenever a particular category is present in a data point, its corresponding column is marked as **True (1)**, while all other category columns remain **False (0)**. \n",
    "\n",
    "This approach helps preserve categorical information without introducing any ordinal relationships, ensuring that the model treats them correctly."
   ]
  },
  {
   "cell_type": "code",
   "execution_count": 566,
   "metadata": {},
   "outputs": [],
   "source": [
    "# One hot encoding\n",
    "df = pd.get_dummies(df, columns=['fuel_type', 'transmission_type', 'city', 'drive_type',\n",
    "                                 'emission_norm_compliance', 'steering_type'], drop_first=True)"
   ]
  },
  {
   "cell_type": "markdown",
   "metadata": {},
   "source": [
    "Above, we applied **one-hot encoding** to transform nominal categorical variables. Now, we will use **label encoding** for features such as `\"model_name\"`, `\"variant_name\"`, `\"car_oem\"`, `\"engine_type\"`, and `\"gearbox\"`. Label encoding assigns a unique numerical value to each category within these features, allowing the model to process them as numerical inputs.\n",
    "\n",
    "This approach is particularly useful when dealing with categorical variables that have many unique values, helping to reduce dimensionality compared to one-hot encoding. \n",
    "\n",
    "However, since label encoding introduces an ordinal relationship, it should only be used when the categorical values do not have a meaningful rank or order."
   ]
  },
  {
   "cell_type": "code",
   "execution_count": 567,
   "metadata": {},
   "outputs": [],
   "source": [
    "# Label encoding for categorical value\n",
    "label_cols = ['model_name', 'variant_name', 'car_oem', 'engine_type', 'gearbox']\n",
    "encoder = LabelEncoder()\n",
    "for col in label_cols:\n",
    "    df[col] = encoder.fit_transform(df[col])"
   ]
  },
  {
   "cell_type": "markdown",
   "metadata": {},
   "source": [
    "Finally, we will apply the StandardScaler to the numerical columns, ensuring that all features are scaled such that they have a mean of 0 and a standard deviation of 1.\n",
    " \n",
    "This standardization process helps to bring all features to the same scale, improving the performance and stability of many machine learning algorithms."
   ]
  },
  {
   "cell_type": "code",
   "execution_count": 568,
   "metadata": {},
   "outputs": [],
   "source": [
    "# Scale Numerical Features (excluding `price_log`)\n",
    "num_cols = [\n",
    "    \"car_km_log\", \"length(mm)\", \"width(mm)\", \"height(mm)\", \"displacement(cc)\", \n",
    "    \"max_power(bhp)\", \"max_torque(Nm)\", \"wheel_base(mm)\", \"kerb_weight(kg)\", \n",
    "    \"ground_clearance_unladen(mm)\"\n",
    "]\n",
    "\n",
    "scaler = StandardScaler()\n",
    "df[num_cols] = scaler.fit_transform(df[num_cols])"
   ]
  },
  {
   "cell_type": "markdown",
   "metadata": {},
   "source": [
    "### Model Building"
   ]
  },
  {
   "cell_type": "markdown",
   "metadata": {},
   "source": [
    "After completing the preliminary steps of data preprocessing and scaling, we are now ready to build a model to predict car prices using the available features. \n",
    "\n",
    "First, we will split the data into training and testing sets. Then, we will start with **Linear Regression** to predict the car prices. If the performance of the linear model is not satisfactory, we will explore and experiment with other models to enhance accuracy and robustness."
   ]
  },
  {
   "cell_type": "markdown",
   "metadata": {},
   "source": [
    "### Linear Regression"
   ]
  },
  {
   "cell_type": "markdown",
   "metadata": {},
   "source": [
    "We are using Linear Regression because we are interested in predicting the car price based on the available features. Linear Regression is a good choice when you want to make predictions with a clear linear relationship between the dependent variable (car price) and independent variables (features). "
   ]
  },
  {
   "cell_type": "code",
   "execution_count": 569,
   "metadata": {},
   "outputs": [
    {
     "data": {
      "text/html": [
       "<style>#sk-container-id-15 {\n",
       "  /* Definition of color scheme common for light and dark mode */\n",
       "  --sklearn-color-text: black;\n",
       "  --sklearn-color-line: gray;\n",
       "  /* Definition of color scheme for unfitted estimators */\n",
       "  --sklearn-color-unfitted-level-0: #fff5e6;\n",
       "  --sklearn-color-unfitted-level-1: #f6e4d2;\n",
       "  --sklearn-color-unfitted-level-2: #ffe0b3;\n",
       "  --sklearn-color-unfitted-level-3: chocolate;\n",
       "  /* Definition of color scheme for fitted estimators */\n",
       "  --sklearn-color-fitted-level-0: #f0f8ff;\n",
       "  --sklearn-color-fitted-level-1: #d4ebff;\n",
       "  --sklearn-color-fitted-level-2: #b3dbfd;\n",
       "  --sklearn-color-fitted-level-3: cornflowerblue;\n",
       "\n",
       "  /* Specific color for light theme */\n",
       "  --sklearn-color-text-on-default-background: var(--sg-text-color, var(--theme-code-foreground, var(--jp-content-font-color1, black)));\n",
       "  --sklearn-color-background: var(--sg-background-color, var(--theme-background, var(--jp-layout-color0, white)));\n",
       "  --sklearn-color-border-box: var(--sg-text-color, var(--theme-code-foreground, var(--jp-content-font-color1, black)));\n",
       "  --sklearn-color-icon: #696969;\n",
       "\n",
       "  @media (prefers-color-scheme: dark) {\n",
       "    /* Redefinition of color scheme for dark theme */\n",
       "    --sklearn-color-text-on-default-background: var(--sg-text-color, var(--theme-code-foreground, var(--jp-content-font-color1, white)));\n",
       "    --sklearn-color-background: var(--sg-background-color, var(--theme-background, var(--jp-layout-color0, #111)));\n",
       "    --sklearn-color-border-box: var(--sg-text-color, var(--theme-code-foreground, var(--jp-content-font-color1, white)));\n",
       "    --sklearn-color-icon: #878787;\n",
       "  }\n",
       "}\n",
       "\n",
       "#sk-container-id-15 {\n",
       "  color: var(--sklearn-color-text);\n",
       "}\n",
       "\n",
       "#sk-container-id-15 pre {\n",
       "  padding: 0;\n",
       "}\n",
       "\n",
       "#sk-container-id-15 input.sk-hidden--visually {\n",
       "  border: 0;\n",
       "  clip: rect(1px 1px 1px 1px);\n",
       "  clip: rect(1px, 1px, 1px, 1px);\n",
       "  height: 1px;\n",
       "  margin: -1px;\n",
       "  overflow: hidden;\n",
       "  padding: 0;\n",
       "  position: absolute;\n",
       "  width: 1px;\n",
       "}\n",
       "\n",
       "#sk-container-id-15 div.sk-dashed-wrapped {\n",
       "  border: 1px dashed var(--sklearn-color-line);\n",
       "  margin: 0 0.4em 0.5em 0.4em;\n",
       "  box-sizing: border-box;\n",
       "  padding-bottom: 0.4em;\n",
       "  background-color: var(--sklearn-color-background);\n",
       "}\n",
       "\n",
       "#sk-container-id-15 div.sk-container {\n",
       "  /* jupyter's `normalize.less` sets `[hidden] { display: none; }`\n",
       "     but bootstrap.min.css set `[hidden] { display: none !important; }`\n",
       "     so we also need the `!important` here to be able to override the\n",
       "     default hidden behavior on the sphinx rendered scikit-learn.org.\n",
       "     See: https://github.com/scikit-learn/scikit-learn/issues/21755 */\n",
       "  display: inline-block !important;\n",
       "  position: relative;\n",
       "}\n",
       "\n",
       "#sk-container-id-15 div.sk-text-repr-fallback {\n",
       "  display: none;\n",
       "}\n",
       "\n",
       "div.sk-parallel-item,\n",
       "div.sk-serial,\n",
       "div.sk-item {\n",
       "  /* draw centered vertical line to link estimators */\n",
       "  background-image: linear-gradient(var(--sklearn-color-text-on-default-background), var(--sklearn-color-text-on-default-background));\n",
       "  background-size: 2px 100%;\n",
       "  background-repeat: no-repeat;\n",
       "  background-position: center center;\n",
       "}\n",
       "\n",
       "/* Parallel-specific style estimator block */\n",
       "\n",
       "#sk-container-id-15 div.sk-parallel-item::after {\n",
       "  content: \"\";\n",
       "  width: 100%;\n",
       "  border-bottom: 2px solid var(--sklearn-color-text-on-default-background);\n",
       "  flex-grow: 1;\n",
       "}\n",
       "\n",
       "#sk-container-id-15 div.sk-parallel {\n",
       "  display: flex;\n",
       "  align-items: stretch;\n",
       "  justify-content: center;\n",
       "  background-color: var(--sklearn-color-background);\n",
       "  position: relative;\n",
       "}\n",
       "\n",
       "#sk-container-id-15 div.sk-parallel-item {\n",
       "  display: flex;\n",
       "  flex-direction: column;\n",
       "}\n",
       "\n",
       "#sk-container-id-15 div.sk-parallel-item:first-child::after {\n",
       "  align-self: flex-end;\n",
       "  width: 50%;\n",
       "}\n",
       "\n",
       "#sk-container-id-15 div.sk-parallel-item:last-child::after {\n",
       "  align-self: flex-start;\n",
       "  width: 50%;\n",
       "}\n",
       "\n",
       "#sk-container-id-15 div.sk-parallel-item:only-child::after {\n",
       "  width: 0;\n",
       "}\n",
       "\n",
       "/* Serial-specific style estimator block */\n",
       "\n",
       "#sk-container-id-15 div.sk-serial {\n",
       "  display: flex;\n",
       "  flex-direction: column;\n",
       "  align-items: center;\n",
       "  background-color: var(--sklearn-color-background);\n",
       "  padding-right: 1em;\n",
       "  padding-left: 1em;\n",
       "}\n",
       "\n",
       "\n",
       "/* Toggleable style: style used for estimator/Pipeline/ColumnTransformer box that is\n",
       "clickable and can be expanded/collapsed.\n",
       "- Pipeline and ColumnTransformer use this feature and define the default style\n",
       "- Estimators will overwrite some part of the style using the `sk-estimator` class\n",
       "*/\n",
       "\n",
       "/* Pipeline and ColumnTransformer style (default) */\n",
       "\n",
       "#sk-container-id-15 div.sk-toggleable {\n",
       "  /* Default theme specific background. It is overwritten whether we have a\n",
       "  specific estimator or a Pipeline/ColumnTransformer */\n",
       "  background-color: var(--sklearn-color-background);\n",
       "}\n",
       "\n",
       "/* Toggleable label */\n",
       "#sk-container-id-15 label.sk-toggleable__label {\n",
       "  cursor: pointer;\n",
       "  display: block;\n",
       "  width: 100%;\n",
       "  margin-bottom: 0;\n",
       "  padding: 0.5em;\n",
       "  box-sizing: border-box;\n",
       "  text-align: center;\n",
       "}\n",
       "\n",
       "#sk-container-id-15 label.sk-toggleable__label-arrow:before {\n",
       "  /* Arrow on the left of the label */\n",
       "  content: \"▸\";\n",
       "  float: left;\n",
       "  margin-right: 0.25em;\n",
       "  color: var(--sklearn-color-icon);\n",
       "}\n",
       "\n",
       "#sk-container-id-15 label.sk-toggleable__label-arrow:hover:before {\n",
       "  color: var(--sklearn-color-text);\n",
       "}\n",
       "\n",
       "/* Toggleable content - dropdown */\n",
       "\n",
       "#sk-container-id-15 div.sk-toggleable__content {\n",
       "  max-height: 0;\n",
       "  max-width: 0;\n",
       "  overflow: hidden;\n",
       "  text-align: left;\n",
       "  /* unfitted */\n",
       "  background-color: var(--sklearn-color-unfitted-level-0);\n",
       "}\n",
       "\n",
       "#sk-container-id-15 div.sk-toggleable__content.fitted {\n",
       "  /* fitted */\n",
       "  background-color: var(--sklearn-color-fitted-level-0);\n",
       "}\n",
       "\n",
       "#sk-container-id-15 div.sk-toggleable__content pre {\n",
       "  margin: 0.2em;\n",
       "  border-radius: 0.25em;\n",
       "  color: var(--sklearn-color-text);\n",
       "  /* unfitted */\n",
       "  background-color: var(--sklearn-color-unfitted-level-0);\n",
       "}\n",
       "\n",
       "#sk-container-id-15 div.sk-toggleable__content.fitted pre {\n",
       "  /* unfitted */\n",
       "  background-color: var(--sklearn-color-fitted-level-0);\n",
       "}\n",
       "\n",
       "#sk-container-id-15 input.sk-toggleable__control:checked~div.sk-toggleable__content {\n",
       "  /* Expand drop-down */\n",
       "  max-height: 200px;\n",
       "  max-width: 100%;\n",
       "  overflow: auto;\n",
       "}\n",
       "\n",
       "#sk-container-id-15 input.sk-toggleable__control:checked~label.sk-toggleable__label-arrow:before {\n",
       "  content: \"▾\";\n",
       "}\n",
       "\n",
       "/* Pipeline/ColumnTransformer-specific style */\n",
       "\n",
       "#sk-container-id-15 div.sk-label input.sk-toggleable__control:checked~label.sk-toggleable__label {\n",
       "  color: var(--sklearn-color-text);\n",
       "  background-color: var(--sklearn-color-unfitted-level-2);\n",
       "}\n",
       "\n",
       "#sk-container-id-15 div.sk-label.fitted input.sk-toggleable__control:checked~label.sk-toggleable__label {\n",
       "  background-color: var(--sklearn-color-fitted-level-2);\n",
       "}\n",
       "\n",
       "/* Estimator-specific style */\n",
       "\n",
       "/* Colorize estimator box */\n",
       "#sk-container-id-15 div.sk-estimator input.sk-toggleable__control:checked~label.sk-toggleable__label {\n",
       "  /* unfitted */\n",
       "  background-color: var(--sklearn-color-unfitted-level-2);\n",
       "}\n",
       "\n",
       "#sk-container-id-15 div.sk-estimator.fitted input.sk-toggleable__control:checked~label.sk-toggleable__label {\n",
       "  /* fitted */\n",
       "  background-color: var(--sklearn-color-fitted-level-2);\n",
       "}\n",
       "\n",
       "#sk-container-id-15 div.sk-label label.sk-toggleable__label,\n",
       "#sk-container-id-15 div.sk-label label {\n",
       "  /* The background is the default theme color */\n",
       "  color: var(--sklearn-color-text-on-default-background);\n",
       "}\n",
       "\n",
       "/* On hover, darken the color of the background */\n",
       "#sk-container-id-15 div.sk-label:hover label.sk-toggleable__label {\n",
       "  color: var(--sklearn-color-text);\n",
       "  background-color: var(--sklearn-color-unfitted-level-2);\n",
       "}\n",
       "\n",
       "/* Label box, darken color on hover, fitted */\n",
       "#sk-container-id-15 div.sk-label.fitted:hover label.sk-toggleable__label.fitted {\n",
       "  color: var(--sklearn-color-text);\n",
       "  background-color: var(--sklearn-color-fitted-level-2);\n",
       "}\n",
       "\n",
       "/* Estimator label */\n",
       "\n",
       "#sk-container-id-15 div.sk-label label {\n",
       "  font-family: monospace;\n",
       "  font-weight: bold;\n",
       "  display: inline-block;\n",
       "  line-height: 1.2em;\n",
       "}\n",
       "\n",
       "#sk-container-id-15 div.sk-label-container {\n",
       "  text-align: center;\n",
       "}\n",
       "\n",
       "/* Estimator-specific */\n",
       "#sk-container-id-15 div.sk-estimator {\n",
       "  font-family: monospace;\n",
       "  border: 1px dotted var(--sklearn-color-border-box);\n",
       "  border-radius: 0.25em;\n",
       "  box-sizing: border-box;\n",
       "  margin-bottom: 0.5em;\n",
       "  /* unfitted */\n",
       "  background-color: var(--sklearn-color-unfitted-level-0);\n",
       "}\n",
       "\n",
       "#sk-container-id-15 div.sk-estimator.fitted {\n",
       "  /* fitted */\n",
       "  background-color: var(--sklearn-color-fitted-level-0);\n",
       "}\n",
       "\n",
       "/* on hover */\n",
       "#sk-container-id-15 div.sk-estimator:hover {\n",
       "  /* unfitted */\n",
       "  background-color: var(--sklearn-color-unfitted-level-2);\n",
       "}\n",
       "\n",
       "#sk-container-id-15 div.sk-estimator.fitted:hover {\n",
       "  /* fitted */\n",
       "  background-color: var(--sklearn-color-fitted-level-2);\n",
       "}\n",
       "\n",
       "/* Specification for estimator info (e.g. \"i\" and \"?\") */\n",
       "\n",
       "/* Common style for \"i\" and \"?\" */\n",
       "\n",
       ".sk-estimator-doc-link,\n",
       "a:link.sk-estimator-doc-link,\n",
       "a:visited.sk-estimator-doc-link {\n",
       "  float: right;\n",
       "  font-size: smaller;\n",
       "  line-height: 1em;\n",
       "  font-family: monospace;\n",
       "  background-color: var(--sklearn-color-background);\n",
       "  border-radius: 1em;\n",
       "  height: 1em;\n",
       "  width: 1em;\n",
       "  text-decoration: none !important;\n",
       "  margin-left: 1ex;\n",
       "  /* unfitted */\n",
       "  border: var(--sklearn-color-unfitted-level-1) 1pt solid;\n",
       "  color: var(--sklearn-color-unfitted-level-1);\n",
       "}\n",
       "\n",
       ".sk-estimator-doc-link.fitted,\n",
       "a:link.sk-estimator-doc-link.fitted,\n",
       "a:visited.sk-estimator-doc-link.fitted {\n",
       "  /* fitted */\n",
       "  border: var(--sklearn-color-fitted-level-1) 1pt solid;\n",
       "  color: var(--sklearn-color-fitted-level-1);\n",
       "}\n",
       "\n",
       "/* On hover */\n",
       "div.sk-estimator:hover .sk-estimator-doc-link:hover,\n",
       ".sk-estimator-doc-link:hover,\n",
       "div.sk-label-container:hover .sk-estimator-doc-link:hover,\n",
       ".sk-estimator-doc-link:hover {\n",
       "  /* unfitted */\n",
       "  background-color: var(--sklearn-color-unfitted-level-3);\n",
       "  color: var(--sklearn-color-background);\n",
       "  text-decoration: none;\n",
       "}\n",
       "\n",
       "div.sk-estimator.fitted:hover .sk-estimator-doc-link.fitted:hover,\n",
       ".sk-estimator-doc-link.fitted:hover,\n",
       "div.sk-label-container:hover .sk-estimator-doc-link.fitted:hover,\n",
       ".sk-estimator-doc-link.fitted:hover {\n",
       "  /* fitted */\n",
       "  background-color: var(--sklearn-color-fitted-level-3);\n",
       "  color: var(--sklearn-color-background);\n",
       "  text-decoration: none;\n",
       "}\n",
       "\n",
       "/* Span, style for the box shown on hovering the info icon */\n",
       ".sk-estimator-doc-link span {\n",
       "  display: none;\n",
       "  z-index: 9999;\n",
       "  position: relative;\n",
       "  font-weight: normal;\n",
       "  right: .2ex;\n",
       "  padding: .5ex;\n",
       "  margin: .5ex;\n",
       "  width: min-content;\n",
       "  min-width: 20ex;\n",
       "  max-width: 50ex;\n",
       "  color: var(--sklearn-color-text);\n",
       "  box-shadow: 2pt 2pt 4pt #999;\n",
       "  /* unfitted */\n",
       "  background: var(--sklearn-color-unfitted-level-0);\n",
       "  border: .5pt solid var(--sklearn-color-unfitted-level-3);\n",
       "}\n",
       "\n",
       ".sk-estimator-doc-link.fitted span {\n",
       "  /* fitted */\n",
       "  background: var(--sklearn-color-fitted-level-0);\n",
       "  border: var(--sklearn-color-fitted-level-3);\n",
       "}\n",
       "\n",
       ".sk-estimator-doc-link:hover span {\n",
       "  display: block;\n",
       "}\n",
       "\n",
       "/* \"?\"-specific style due to the `<a>` HTML tag */\n",
       "\n",
       "#sk-container-id-15 a.estimator_doc_link {\n",
       "  float: right;\n",
       "  font-size: 1rem;\n",
       "  line-height: 1em;\n",
       "  font-family: monospace;\n",
       "  background-color: var(--sklearn-color-background);\n",
       "  border-radius: 1rem;\n",
       "  height: 1rem;\n",
       "  width: 1rem;\n",
       "  text-decoration: none;\n",
       "  /* unfitted */\n",
       "  color: var(--sklearn-color-unfitted-level-1);\n",
       "  border: var(--sklearn-color-unfitted-level-1) 1pt solid;\n",
       "}\n",
       "\n",
       "#sk-container-id-15 a.estimator_doc_link.fitted {\n",
       "  /* fitted */\n",
       "  border: var(--sklearn-color-fitted-level-1) 1pt solid;\n",
       "  color: var(--sklearn-color-fitted-level-1);\n",
       "}\n",
       "\n",
       "/* On hover */\n",
       "#sk-container-id-15 a.estimator_doc_link:hover {\n",
       "  /* unfitted */\n",
       "  background-color: var(--sklearn-color-unfitted-level-3);\n",
       "  color: var(--sklearn-color-background);\n",
       "  text-decoration: none;\n",
       "}\n",
       "\n",
       "#sk-container-id-15 a.estimator_doc_link.fitted:hover {\n",
       "  /* fitted */\n",
       "  background-color: var(--sklearn-color-fitted-level-3);\n",
       "}\n",
       "</style><div id=\"sk-container-id-15\" class=\"sk-top-container\"><div class=\"sk-text-repr-fallback\"><pre>LinearRegression()</pre><b>In a Jupyter environment, please rerun this cell to show the HTML representation or trust the notebook. <br />On GitHub, the HTML representation is unable to render, please try loading this page with nbviewer.org.</b></div><div class=\"sk-container\" hidden><div class=\"sk-item\"><div class=\"sk-estimator fitted sk-toggleable\"><input class=\"sk-toggleable__control sk-hidden--visually\" id=\"sk-estimator-id-15\" type=\"checkbox\" checked><label for=\"sk-estimator-id-15\" class=\"sk-toggleable__label fitted sk-toggleable__label-arrow fitted\">&nbsp;&nbsp;LinearRegression<a class=\"sk-estimator-doc-link fitted\" rel=\"noreferrer\" target=\"_blank\" href=\"https://scikit-learn.org/1.5/modules/generated/sklearn.linear_model.LinearRegression.html\">?<span>Documentation for LinearRegression</span></a><span class=\"sk-estimator-doc-link fitted\">i<span>Fitted</span></span></label><div class=\"sk-toggleable__content fitted\"><pre>LinearRegression()</pre></div> </div></div></div></div>"
      ],
      "text/plain": [
       "LinearRegression()"
      ]
     },
     "execution_count": 569,
     "metadata": {},
     "output_type": "execute_result"
    }
   ],
   "source": [
    "from sklearn.model_selection import train_test_split\n",
    "\n",
    "# Remove price, price_log from the X dataset\n",
    "X = df.drop(columns=[\"price\", \"price_log\"])\n",
    "# Store the price value\n",
    "y = df[\"price_log\"]\n",
    "\n",
    "# Train-Test Split\n",
    "X_train, X_test, y_train, y_test = train_test_split(X, y, test_size=0.2, random_state=42)\n",
    "\n",
    "# Standardize Features (X)\n",
    "scaler = StandardScaler()\n",
    "X_train = scaler.fit_transform(X_train)\n",
    "X_test = scaler.transform(X_test)\n",
    "\n",
    "# Fit model\n",
    "model = LinearRegression()\n",
    "model.fit(X_train, y_train)"
   ]
  },
  {
   "cell_type": "markdown",
   "metadata": {},
   "source": [
    "Now that the model is created, it's time to evaluate its performance using various metrics such as Mean Absolute Error (MAE), Root Mean Squared Error (RMSE), and R-squared (R²)."
   ]
  },
  {
   "cell_type": "code",
   "execution_count": 570,
   "metadata": {},
   "outputs": [
    {
     "name": "stdout",
     "output_type": "stream",
     "text": [
      "RMSE: 2331531.898382459\n",
      "MAE: 1795936.0048229515\n",
      "r2_score: 0.8309162365434941\n"
     ]
    }
   ],
   "source": [
    "# Check Accuracy/Evaluation\n",
    "y_pred_log = model.predict(X_test)\n",
    "y_pred_actual = np.expm1(y_pred_log)\n",
    "y_actual = np.expm1(y_test)\n",
    "\n",
    "# Mean Absolute Error (MAE), which measures the average absolute difference \n",
    "# between the actual and predicted values. A lower MAE indicates better model performance.\n",
    "mae = mean_absolute_error(y_actual, y_pred_actual)\n",
    "\n",
    "# Root Mean Squared Error (RMSE), which penalizes larger errors more \n",
    "# than MAE. A lower RMSE signifies a more accurate model.\n",
    "rmse = root_mean_squared_error(y_actual, y_pred_actual)\n",
    "\n",
    "# R-squared score, which indicates how well the model explains the \n",
    "# variance in the actual values. A value closer to 1 suggests the model fits the data well\n",
    "r_score = r2_score(y_actual, y_pred_actual)\n",
    "\n",
    "print(f\"RMSE: {rmse}\")\n",
    "print(f\"MAE: {mae}\")\n",
    "print(f\"r2_score: {r_score}\")"
   ]
  },
  {
   "cell_type": "markdown",
   "metadata": {},
   "source": [
    "The model shows extremely low RMSE and MAE, along with a perfect R² score of 1.0.\n",
    "\n",
    "These results suggest potential overfitting, as the model might be too closely fitted to the training data and may not generalize well to new data."
   ]
  },
  {
   "cell_type": "markdown",
   "metadata": {},
   "source": [
    "One way to address potential overfitting is to check for **multicollinearity**, which occurs when multiple features are highly correlated, causing the model to become confused. We can detect multicollinearity using the **Variance Inflation Factor (VIF)**. By identifying and removing the correlated columns, we can reduce the noise and retrain the model to improve its performance.\""
   ]
  },
  {
   "cell_type": "code",
   "execution_count": 571,
   "metadata": {},
   "outputs": [
    {
     "name": "stdout",
     "output_type": "stream",
     "text": [
      "                        Feature        VIF\n",
      "0                    car_km_log   2.646596\n",
      "1                    length(mm)  30.460289\n",
      "2                     width(mm)  11.731125\n",
      "3                    height(mm)  10.951543\n",
      "4              displacement(cc)  31.494726\n",
      "5                max_power(bhp)  69.296193\n",
      "6                max_torque(Nm)  32.007249\n",
      "7                wheel_base(mm)   6.945226\n",
      "8               kerb_weight(kg)  99.850773\n",
      "9  ground_clearance_unladen(mm)   3.304844\n"
     ]
    }
   ],
   "source": [
    "from statsmodels.stats.outliers_influence import variance_inflation_factor\n",
    "\n",
    "X_num = df[num_cols]  # Select only numerical features\n",
    "vif_data = pd.DataFrame()\n",
    "vif_data[\"Feature\"] = X_num.columns\n",
    "vif_data[\"VIF\"] = [variance_inflation_factor(X_num.values, i) for i in range(X_num.shape[1])]\n",
    "\n",
    "print(vif_data)"
   ]
  },
  {
   "cell_type": "markdown",
   "metadata": {},
   "source": [
    "Now, let's identify the columns that are highly correlated by calculating the Variance Inflation Factor (VIF). Once we identify the features with high multicollinearity, we can remove them and retrain the model to evaluate the improved performance"
   ]
  },
  {
   "cell_type": "code",
   "execution_count": 572,
   "metadata": {},
   "outputs": [
    {
     "name": "stdout",
     "output_type": "stream",
     "text": [
      "RMSE: 3129394.298661532\n",
      "MAE: 2427571.952525051\n",
      "r2_score: 0.6953930860640389\n"
     ]
    }
   ],
   "source": [
    "X = df.drop(columns=[\"price\", \"price_log\", \"km\", \"max_power(bhp)\", \n",
    "                     \"kerb_weight(kg)\", \"displacement(cc)\", \"height(mm)\"])  # Drop original price & km\n",
    "y = df[\"price_log\"]  # Target: Log-transformed price\n",
    "\n",
    "# Train-Test Split\n",
    "X_train, X_test, y_train, y_test = train_test_split(X, y, test_size=0.2, random_state=42)\n",
    "\n",
    "# Standardize Features (X)\n",
    "scaler = StandardScaler()\n",
    "X_train = scaler.fit_transform(X_train)\n",
    "X_test = scaler.transform(X_test)\n",
    "\n",
    "model = LinearRegression()\n",
    "model.fit(X_train, y_train)\n",
    "\n",
    "y_pred_log = model.predict(X_test)\n",
    "y_pred_actual = np.expm1(y_pred_log)\n",
    "y_actual = np.expm1(y_test)\n",
    "\n",
    "mae = mean_absolute_error(y_actual, y_pred_actual)\n",
    "rmse = root_mean_squared_error(y_actual, y_pred_actual)\n",
    "r_score = r2_score(y_actual, y_pred_actual)\n",
    "\n",
    "print(f\"RMSE: {rmse}\")\n",
    "print(f\"MAE: {mae}\")\n",
    "print(f\"r2_score: {r_score}\")"
   ]
  },
  {
   "cell_type": "markdown",
   "metadata": {},
   "source": [
    "It seems that removing or adding features didn’t lead to significant improvements in model performance, which could indicate that the current model and features may not be the best fit for predicting car prices."
   ]
  },
  {
   "cell_type": "markdown",
   "metadata": {},
   "source": [
    "### Ridge Regression"
   ]
  },
  {
   "cell_type": "markdown",
   "metadata": {},
   "source": [
    "As the Linear Regression model didn't gave the satisfactory results due to multicollinearity, we are switching to Ridge Regression. \n",
    "\n",
    "Ridge Regression helps mitigate overfitting by adding a penalty term to the model, which reduces the impact of highly correlated features. This technique allows us to achieve more stable and reliable results, even in the presence of multicollinearity."
   ]
  },
  {
   "cell_type": "code",
   "execution_count": 573,
   "metadata": {},
   "outputs": [
    {
     "data": {
      "text/html": [
       "<style>#sk-container-id-16 {\n",
       "  /* Definition of color scheme common for light and dark mode */\n",
       "  --sklearn-color-text: black;\n",
       "  --sklearn-color-line: gray;\n",
       "  /* Definition of color scheme for unfitted estimators */\n",
       "  --sklearn-color-unfitted-level-0: #fff5e6;\n",
       "  --sklearn-color-unfitted-level-1: #f6e4d2;\n",
       "  --sklearn-color-unfitted-level-2: #ffe0b3;\n",
       "  --sklearn-color-unfitted-level-3: chocolate;\n",
       "  /* Definition of color scheme for fitted estimators */\n",
       "  --sklearn-color-fitted-level-0: #f0f8ff;\n",
       "  --sklearn-color-fitted-level-1: #d4ebff;\n",
       "  --sklearn-color-fitted-level-2: #b3dbfd;\n",
       "  --sklearn-color-fitted-level-3: cornflowerblue;\n",
       "\n",
       "  /* Specific color for light theme */\n",
       "  --sklearn-color-text-on-default-background: var(--sg-text-color, var(--theme-code-foreground, var(--jp-content-font-color1, black)));\n",
       "  --sklearn-color-background: var(--sg-background-color, var(--theme-background, var(--jp-layout-color0, white)));\n",
       "  --sklearn-color-border-box: var(--sg-text-color, var(--theme-code-foreground, var(--jp-content-font-color1, black)));\n",
       "  --sklearn-color-icon: #696969;\n",
       "\n",
       "  @media (prefers-color-scheme: dark) {\n",
       "    /* Redefinition of color scheme for dark theme */\n",
       "    --sklearn-color-text-on-default-background: var(--sg-text-color, var(--theme-code-foreground, var(--jp-content-font-color1, white)));\n",
       "    --sklearn-color-background: var(--sg-background-color, var(--theme-background, var(--jp-layout-color0, #111)));\n",
       "    --sklearn-color-border-box: var(--sg-text-color, var(--theme-code-foreground, var(--jp-content-font-color1, white)));\n",
       "    --sklearn-color-icon: #878787;\n",
       "  }\n",
       "}\n",
       "\n",
       "#sk-container-id-16 {\n",
       "  color: var(--sklearn-color-text);\n",
       "}\n",
       "\n",
       "#sk-container-id-16 pre {\n",
       "  padding: 0;\n",
       "}\n",
       "\n",
       "#sk-container-id-16 input.sk-hidden--visually {\n",
       "  border: 0;\n",
       "  clip: rect(1px 1px 1px 1px);\n",
       "  clip: rect(1px, 1px, 1px, 1px);\n",
       "  height: 1px;\n",
       "  margin: -1px;\n",
       "  overflow: hidden;\n",
       "  padding: 0;\n",
       "  position: absolute;\n",
       "  width: 1px;\n",
       "}\n",
       "\n",
       "#sk-container-id-16 div.sk-dashed-wrapped {\n",
       "  border: 1px dashed var(--sklearn-color-line);\n",
       "  margin: 0 0.4em 0.5em 0.4em;\n",
       "  box-sizing: border-box;\n",
       "  padding-bottom: 0.4em;\n",
       "  background-color: var(--sklearn-color-background);\n",
       "}\n",
       "\n",
       "#sk-container-id-16 div.sk-container {\n",
       "  /* jupyter's `normalize.less` sets `[hidden] { display: none; }`\n",
       "     but bootstrap.min.css set `[hidden] { display: none !important; }`\n",
       "     so we also need the `!important` here to be able to override the\n",
       "     default hidden behavior on the sphinx rendered scikit-learn.org.\n",
       "     See: https://github.com/scikit-learn/scikit-learn/issues/21755 */\n",
       "  display: inline-block !important;\n",
       "  position: relative;\n",
       "}\n",
       "\n",
       "#sk-container-id-16 div.sk-text-repr-fallback {\n",
       "  display: none;\n",
       "}\n",
       "\n",
       "div.sk-parallel-item,\n",
       "div.sk-serial,\n",
       "div.sk-item {\n",
       "  /* draw centered vertical line to link estimators */\n",
       "  background-image: linear-gradient(var(--sklearn-color-text-on-default-background), var(--sklearn-color-text-on-default-background));\n",
       "  background-size: 2px 100%;\n",
       "  background-repeat: no-repeat;\n",
       "  background-position: center center;\n",
       "}\n",
       "\n",
       "/* Parallel-specific style estimator block */\n",
       "\n",
       "#sk-container-id-16 div.sk-parallel-item::after {\n",
       "  content: \"\";\n",
       "  width: 100%;\n",
       "  border-bottom: 2px solid var(--sklearn-color-text-on-default-background);\n",
       "  flex-grow: 1;\n",
       "}\n",
       "\n",
       "#sk-container-id-16 div.sk-parallel {\n",
       "  display: flex;\n",
       "  align-items: stretch;\n",
       "  justify-content: center;\n",
       "  background-color: var(--sklearn-color-background);\n",
       "  position: relative;\n",
       "}\n",
       "\n",
       "#sk-container-id-16 div.sk-parallel-item {\n",
       "  display: flex;\n",
       "  flex-direction: column;\n",
       "}\n",
       "\n",
       "#sk-container-id-16 div.sk-parallel-item:first-child::after {\n",
       "  align-self: flex-end;\n",
       "  width: 50%;\n",
       "}\n",
       "\n",
       "#sk-container-id-16 div.sk-parallel-item:last-child::after {\n",
       "  align-self: flex-start;\n",
       "  width: 50%;\n",
       "}\n",
       "\n",
       "#sk-container-id-16 div.sk-parallel-item:only-child::after {\n",
       "  width: 0;\n",
       "}\n",
       "\n",
       "/* Serial-specific style estimator block */\n",
       "\n",
       "#sk-container-id-16 div.sk-serial {\n",
       "  display: flex;\n",
       "  flex-direction: column;\n",
       "  align-items: center;\n",
       "  background-color: var(--sklearn-color-background);\n",
       "  padding-right: 1em;\n",
       "  padding-left: 1em;\n",
       "}\n",
       "\n",
       "\n",
       "/* Toggleable style: style used for estimator/Pipeline/ColumnTransformer box that is\n",
       "clickable and can be expanded/collapsed.\n",
       "- Pipeline and ColumnTransformer use this feature and define the default style\n",
       "- Estimators will overwrite some part of the style using the `sk-estimator` class\n",
       "*/\n",
       "\n",
       "/* Pipeline and ColumnTransformer style (default) */\n",
       "\n",
       "#sk-container-id-16 div.sk-toggleable {\n",
       "  /* Default theme specific background. It is overwritten whether we have a\n",
       "  specific estimator or a Pipeline/ColumnTransformer */\n",
       "  background-color: var(--sklearn-color-background);\n",
       "}\n",
       "\n",
       "/* Toggleable label */\n",
       "#sk-container-id-16 label.sk-toggleable__label {\n",
       "  cursor: pointer;\n",
       "  display: block;\n",
       "  width: 100%;\n",
       "  margin-bottom: 0;\n",
       "  padding: 0.5em;\n",
       "  box-sizing: border-box;\n",
       "  text-align: center;\n",
       "}\n",
       "\n",
       "#sk-container-id-16 label.sk-toggleable__label-arrow:before {\n",
       "  /* Arrow on the left of the label */\n",
       "  content: \"▸\";\n",
       "  float: left;\n",
       "  margin-right: 0.25em;\n",
       "  color: var(--sklearn-color-icon);\n",
       "}\n",
       "\n",
       "#sk-container-id-16 label.sk-toggleable__label-arrow:hover:before {\n",
       "  color: var(--sklearn-color-text);\n",
       "}\n",
       "\n",
       "/* Toggleable content - dropdown */\n",
       "\n",
       "#sk-container-id-16 div.sk-toggleable__content {\n",
       "  max-height: 0;\n",
       "  max-width: 0;\n",
       "  overflow: hidden;\n",
       "  text-align: left;\n",
       "  /* unfitted */\n",
       "  background-color: var(--sklearn-color-unfitted-level-0);\n",
       "}\n",
       "\n",
       "#sk-container-id-16 div.sk-toggleable__content.fitted {\n",
       "  /* fitted */\n",
       "  background-color: var(--sklearn-color-fitted-level-0);\n",
       "}\n",
       "\n",
       "#sk-container-id-16 div.sk-toggleable__content pre {\n",
       "  margin: 0.2em;\n",
       "  border-radius: 0.25em;\n",
       "  color: var(--sklearn-color-text);\n",
       "  /* unfitted */\n",
       "  background-color: var(--sklearn-color-unfitted-level-0);\n",
       "}\n",
       "\n",
       "#sk-container-id-16 div.sk-toggleable__content.fitted pre {\n",
       "  /* unfitted */\n",
       "  background-color: var(--sklearn-color-fitted-level-0);\n",
       "}\n",
       "\n",
       "#sk-container-id-16 input.sk-toggleable__control:checked~div.sk-toggleable__content {\n",
       "  /* Expand drop-down */\n",
       "  max-height: 200px;\n",
       "  max-width: 100%;\n",
       "  overflow: auto;\n",
       "}\n",
       "\n",
       "#sk-container-id-16 input.sk-toggleable__control:checked~label.sk-toggleable__label-arrow:before {\n",
       "  content: \"▾\";\n",
       "}\n",
       "\n",
       "/* Pipeline/ColumnTransformer-specific style */\n",
       "\n",
       "#sk-container-id-16 div.sk-label input.sk-toggleable__control:checked~label.sk-toggleable__label {\n",
       "  color: var(--sklearn-color-text);\n",
       "  background-color: var(--sklearn-color-unfitted-level-2);\n",
       "}\n",
       "\n",
       "#sk-container-id-16 div.sk-label.fitted input.sk-toggleable__control:checked~label.sk-toggleable__label {\n",
       "  background-color: var(--sklearn-color-fitted-level-2);\n",
       "}\n",
       "\n",
       "/* Estimator-specific style */\n",
       "\n",
       "/* Colorize estimator box */\n",
       "#sk-container-id-16 div.sk-estimator input.sk-toggleable__control:checked~label.sk-toggleable__label {\n",
       "  /* unfitted */\n",
       "  background-color: var(--sklearn-color-unfitted-level-2);\n",
       "}\n",
       "\n",
       "#sk-container-id-16 div.sk-estimator.fitted input.sk-toggleable__control:checked~label.sk-toggleable__label {\n",
       "  /* fitted */\n",
       "  background-color: var(--sklearn-color-fitted-level-2);\n",
       "}\n",
       "\n",
       "#sk-container-id-16 div.sk-label label.sk-toggleable__label,\n",
       "#sk-container-id-16 div.sk-label label {\n",
       "  /* The background is the default theme color */\n",
       "  color: var(--sklearn-color-text-on-default-background);\n",
       "}\n",
       "\n",
       "/* On hover, darken the color of the background */\n",
       "#sk-container-id-16 div.sk-label:hover label.sk-toggleable__label {\n",
       "  color: var(--sklearn-color-text);\n",
       "  background-color: var(--sklearn-color-unfitted-level-2);\n",
       "}\n",
       "\n",
       "/* Label box, darken color on hover, fitted */\n",
       "#sk-container-id-16 div.sk-label.fitted:hover label.sk-toggleable__label.fitted {\n",
       "  color: var(--sklearn-color-text);\n",
       "  background-color: var(--sklearn-color-fitted-level-2);\n",
       "}\n",
       "\n",
       "/* Estimator label */\n",
       "\n",
       "#sk-container-id-16 div.sk-label label {\n",
       "  font-family: monospace;\n",
       "  font-weight: bold;\n",
       "  display: inline-block;\n",
       "  line-height: 1.2em;\n",
       "}\n",
       "\n",
       "#sk-container-id-16 div.sk-label-container {\n",
       "  text-align: center;\n",
       "}\n",
       "\n",
       "/* Estimator-specific */\n",
       "#sk-container-id-16 div.sk-estimator {\n",
       "  font-family: monospace;\n",
       "  border: 1px dotted var(--sklearn-color-border-box);\n",
       "  border-radius: 0.25em;\n",
       "  box-sizing: border-box;\n",
       "  margin-bottom: 0.5em;\n",
       "  /* unfitted */\n",
       "  background-color: var(--sklearn-color-unfitted-level-0);\n",
       "}\n",
       "\n",
       "#sk-container-id-16 div.sk-estimator.fitted {\n",
       "  /* fitted */\n",
       "  background-color: var(--sklearn-color-fitted-level-0);\n",
       "}\n",
       "\n",
       "/* on hover */\n",
       "#sk-container-id-16 div.sk-estimator:hover {\n",
       "  /* unfitted */\n",
       "  background-color: var(--sklearn-color-unfitted-level-2);\n",
       "}\n",
       "\n",
       "#sk-container-id-16 div.sk-estimator.fitted:hover {\n",
       "  /* fitted */\n",
       "  background-color: var(--sklearn-color-fitted-level-2);\n",
       "}\n",
       "\n",
       "/* Specification for estimator info (e.g. \"i\" and \"?\") */\n",
       "\n",
       "/* Common style for \"i\" and \"?\" */\n",
       "\n",
       ".sk-estimator-doc-link,\n",
       "a:link.sk-estimator-doc-link,\n",
       "a:visited.sk-estimator-doc-link {\n",
       "  float: right;\n",
       "  font-size: smaller;\n",
       "  line-height: 1em;\n",
       "  font-family: monospace;\n",
       "  background-color: var(--sklearn-color-background);\n",
       "  border-radius: 1em;\n",
       "  height: 1em;\n",
       "  width: 1em;\n",
       "  text-decoration: none !important;\n",
       "  margin-left: 1ex;\n",
       "  /* unfitted */\n",
       "  border: var(--sklearn-color-unfitted-level-1) 1pt solid;\n",
       "  color: var(--sklearn-color-unfitted-level-1);\n",
       "}\n",
       "\n",
       ".sk-estimator-doc-link.fitted,\n",
       "a:link.sk-estimator-doc-link.fitted,\n",
       "a:visited.sk-estimator-doc-link.fitted {\n",
       "  /* fitted */\n",
       "  border: var(--sklearn-color-fitted-level-1) 1pt solid;\n",
       "  color: var(--sklearn-color-fitted-level-1);\n",
       "}\n",
       "\n",
       "/* On hover */\n",
       "div.sk-estimator:hover .sk-estimator-doc-link:hover,\n",
       ".sk-estimator-doc-link:hover,\n",
       "div.sk-label-container:hover .sk-estimator-doc-link:hover,\n",
       ".sk-estimator-doc-link:hover {\n",
       "  /* unfitted */\n",
       "  background-color: var(--sklearn-color-unfitted-level-3);\n",
       "  color: var(--sklearn-color-background);\n",
       "  text-decoration: none;\n",
       "}\n",
       "\n",
       "div.sk-estimator.fitted:hover .sk-estimator-doc-link.fitted:hover,\n",
       ".sk-estimator-doc-link.fitted:hover,\n",
       "div.sk-label-container:hover .sk-estimator-doc-link.fitted:hover,\n",
       ".sk-estimator-doc-link.fitted:hover {\n",
       "  /* fitted */\n",
       "  background-color: var(--sklearn-color-fitted-level-3);\n",
       "  color: var(--sklearn-color-background);\n",
       "  text-decoration: none;\n",
       "}\n",
       "\n",
       "/* Span, style for the box shown on hovering the info icon */\n",
       ".sk-estimator-doc-link span {\n",
       "  display: none;\n",
       "  z-index: 9999;\n",
       "  position: relative;\n",
       "  font-weight: normal;\n",
       "  right: .2ex;\n",
       "  padding: .5ex;\n",
       "  margin: .5ex;\n",
       "  width: min-content;\n",
       "  min-width: 20ex;\n",
       "  max-width: 50ex;\n",
       "  color: var(--sklearn-color-text);\n",
       "  box-shadow: 2pt 2pt 4pt #999;\n",
       "  /* unfitted */\n",
       "  background: var(--sklearn-color-unfitted-level-0);\n",
       "  border: .5pt solid var(--sklearn-color-unfitted-level-3);\n",
       "}\n",
       "\n",
       ".sk-estimator-doc-link.fitted span {\n",
       "  /* fitted */\n",
       "  background: var(--sklearn-color-fitted-level-0);\n",
       "  border: var(--sklearn-color-fitted-level-3);\n",
       "}\n",
       "\n",
       ".sk-estimator-doc-link:hover span {\n",
       "  display: block;\n",
       "}\n",
       "\n",
       "/* \"?\"-specific style due to the `<a>` HTML tag */\n",
       "\n",
       "#sk-container-id-16 a.estimator_doc_link {\n",
       "  float: right;\n",
       "  font-size: 1rem;\n",
       "  line-height: 1em;\n",
       "  font-family: monospace;\n",
       "  background-color: var(--sklearn-color-background);\n",
       "  border-radius: 1rem;\n",
       "  height: 1rem;\n",
       "  width: 1rem;\n",
       "  text-decoration: none;\n",
       "  /* unfitted */\n",
       "  color: var(--sklearn-color-unfitted-level-1);\n",
       "  border: var(--sklearn-color-unfitted-level-1) 1pt solid;\n",
       "}\n",
       "\n",
       "#sk-container-id-16 a.estimator_doc_link.fitted {\n",
       "  /* fitted */\n",
       "  border: var(--sklearn-color-fitted-level-1) 1pt solid;\n",
       "  color: var(--sklearn-color-fitted-level-1);\n",
       "}\n",
       "\n",
       "/* On hover */\n",
       "#sk-container-id-16 a.estimator_doc_link:hover {\n",
       "  /* unfitted */\n",
       "  background-color: var(--sklearn-color-unfitted-level-3);\n",
       "  color: var(--sklearn-color-background);\n",
       "  text-decoration: none;\n",
       "}\n",
       "\n",
       "#sk-container-id-16 a.estimator_doc_link.fitted:hover {\n",
       "  /* fitted */\n",
       "  background-color: var(--sklearn-color-fitted-level-3);\n",
       "}\n",
       "</style><div id=\"sk-container-id-16\" class=\"sk-top-container\"><div class=\"sk-text-repr-fallback\"><pre>Ridge(alpha=0.001)</pre><b>In a Jupyter environment, please rerun this cell to show the HTML representation or trust the notebook. <br />On GitHub, the HTML representation is unable to render, please try loading this page with nbviewer.org.</b></div><div class=\"sk-container\" hidden><div class=\"sk-item\"><div class=\"sk-estimator fitted sk-toggleable\"><input class=\"sk-toggleable__control sk-hidden--visually\" id=\"sk-estimator-id-16\" type=\"checkbox\" checked><label for=\"sk-estimator-id-16\" class=\"sk-toggleable__label fitted sk-toggleable__label-arrow fitted\">&nbsp;&nbsp;Ridge<a class=\"sk-estimator-doc-link fitted\" rel=\"noreferrer\" target=\"_blank\" href=\"https://scikit-learn.org/1.5/modules/generated/sklearn.linear_model.Ridge.html\">?<span>Documentation for Ridge</span></a><span class=\"sk-estimator-doc-link fitted\">i<span>Fitted</span></span></label><div class=\"sk-toggleable__content fitted\"><pre>Ridge(alpha=0.001)</pre></div> </div></div></div></div>"
      ],
      "text/plain": [
       "Ridge(alpha=0.001)"
      ]
     },
     "execution_count": 573,
     "metadata": {},
     "output_type": "execute_result"
    }
   ],
   "source": [
    "X = df.drop(columns=[\"price\", \"price_log\", \"km\"])\n",
    "y = df[\"price_log\"]\n",
    "\n",
    "# Train-Test Split\n",
    "X_train, X_test, y_train, y_test = train_test_split(X, y, test_size=0.2, random_state=42)\n",
    "\n",
    "# Standardize Features (X)\n",
    "scaler = StandardScaler()\n",
    "X_train = scaler.fit_transform(X_train)\n",
    "X_test = scaler.transform(X_test)\n",
    "\n",
    "# Ridge Regression Model\n",
    "ridge = Ridge(alpha=0.001)  # Use best alpha value\n",
    "ridge.fit(X_train, y_train)"
   ]
  },
  {
   "cell_type": "markdown",
   "metadata": {},
   "source": [
    "Let's check the result of the prediction. "
   ]
  },
  {
   "cell_type": "code",
   "execution_count": 574,
   "metadata": {},
   "outputs": [
    {
     "name": "stdout",
     "output_type": "stream",
     "text": [
      "RMSE: 2258159.2294105925\n",
      "MAE: 1758584.4085711148\n",
      "r2_score: 0.8413908247805639\n",
      "Cross-Validation RMSE: 0.5320821788226906\n"
     ]
    }
   ],
   "source": [
    "# Prediction\n",
    "y_pred_log = ridge.predict(X_test)\n",
    "\n",
    "# Convert log prices back to actual\n",
    "y_pred_actual = np.expm1(y_pred_log)\n",
    "\n",
    "# Convert true log prices back to actual\n",
    "y_actual = np.expm1(y_test)  \n",
    "\n",
    "# Evaluation\n",
    "mae = mean_absolute_error(y_actual, y_pred_actual)\n",
    "rmse = root_mean_squared_error(y_actual, y_pred_actual)\n",
    "r_score = r2_score(y_actual, y_pred_actual)\n",
    "scores = cross_val_score(ridge, X_train, y_train, scoring='neg_root_mean_squared_error', cv=5)\n",
    "\n",
    "\n",
    "print(f\"RMSE: {rmse}\")\n",
    "print(f\"MAE: {mae}\")\n",
    "print(f\"r2_score: {r_score}\")\n",
    "print(\"Cross-Validation RMSE:\", np.abs(scores.mean()))"
   ]
  },
  {
   "cell_type": "markdown",
   "metadata": {},
   "source": [
    "The Ridge Regression model performed significantly better than Linear Regression, so for now, we’ll stop here and move on to exploring **Random Forest** to see how it responds to this dataset."
   ]
  },
  {
   "cell_type": "markdown",
   "metadata": {},
   "source": [
    "### Random Forest"
   ]
  },
  {
   "cell_type": "markdown",
   "metadata": {},
   "source": [
    "Random Forest Regressor is also a great option since it uses multiple decision trees to capture complex patterns in the data, often leading to better and more reliable predictions."
   ]
  },
  {
   "cell_type": "code",
   "execution_count": 576,
   "metadata": {},
   "outputs": [
    {
     "name": "stdout",
     "output_type": "stream",
     "text": [
      "Random Forest RMSE: 3225100.444572978\n",
      "Random Forest MAE: 1989055.594632341\n",
      "r2_score: 0.8413908247805639\n"
     ]
    }
   ],
   "source": [
    "# Initialize the model\n",
    "rf = RandomForestRegressor(n_estimators=100, random_state=42)\n",
    "\n",
    "# Train the model\n",
    "rf.fit(X_train, y_train)\n",
    "\n",
    "# Predict\n",
    "y_pred_rf = rf.predict(X_test)\n",
    "\n",
    "# Convert log prices back to actual prices\n",
    "y_pred_actual_rf = np.expm1(y_pred_rf)\n",
    "y_actual = np.expm1(y_test)\n",
    "\n",
    "# Calculate RMSE & MAE\n",
    "rmse_rf = mean_squared_error(y_actual, y_pred_actual_rf, squared=False)\n",
    "mae_rf = mean_absolute_error(y_actual, y_pred_actual_rf)\n",
    "r_score = r2_score(y_actual, y_pred_actual)\n",
    "\n",
    "\n",
    "print(f\"Random Forest RMSE: {rmse_rf}\")\n",
    "print(f\"Random Forest MAE: {mae_rf}\")\n",
    "print(f\"r2_score: {r_score}\")\n"
   ]
  },
  {
   "cell_type": "markdown",
   "metadata": {},
   "source": [
    "The results from Random Forest were not as good as expected, so we will focus on refining the Ridge Regression model and explore potential optimization techniques to improve its performance."
   ]
  },
  {
   "cell_type": "markdown",
   "metadata": {},
   "source": [
    "### Optimization"
   ]
  },
  {
   "cell_type": "markdown",
   "metadata": {},
   "source": [
    "For optimization, we will test different alpha values using cross-validation with multiple folds, then train the model and evaluate the results using **GridSearchCV**, which will help us find the best alpha."
   ]
  },
  {
   "cell_type": "code",
   "execution_count": 577,
   "metadata": {},
   "outputs": [
    {
     "name": "stdout",
     "output_type": "stream",
     "text": [
      "Best Alpha: 1\n",
      "RMSE: 2073872.1554196074\n",
      "MAE: 1504738.845907218\n",
      "r2_score: 0.8662224789750976\n",
      "Cross-Validation RMSE: 0.5177062824085625\n"
     ]
    }
   ],
   "source": [
    "# Define Ridge regression model\n",
    "ridge = Ridge()\n",
    "\n",
    "# Define hyperparameter grid\n",
    "param_grid = {\"alpha\": [0.0001, 0.001, 0.01, 0.1, 1, 10, 100]}\n",
    "\n",
    "# Perform GridSearchCV with 5-fold cross-validation\n",
    "grid_search = GridSearchCV(ridge, param_grid, scoring='neg_mean_squared_error', cv=5, n_jobs=-1)\n",
    "grid_search.fit(X_train, y_train)\n",
    "\n",
    "# Get the best alpha value\n",
    "best_alpha = grid_search.best_params_[\"alpha\"]\n",
    "print(f\"Best Alpha: {best_alpha}\")\n",
    "\n",
    "# Train Ridge with best alpha\n",
    "ridge_best = Ridge(alpha=best_alpha)\n",
    "ridge_best.fit(X_train, y_train)\n",
    "\n",
    "# Make predictions\n",
    "y_pred_log = ridge_best.predict(X_test)\n",
    "y_pred_actual = np.expm1(y_pred_log)  # Convert log prices back to actual prices\n",
    "y_actual = np.expm1(y_test)\n",
    "\n",
    "# Calculate RMSE and MAE\n",
    "mae = mean_absolute_error(y_actual, y_pred_actual)\n",
    "rmse = root_mean_squared_error(y_actual, y_pred_actual)\n",
    "r_score = r2_score(y_actual, y_pred_actual)\n",
    "scores = cross_val_score(ridge, X_train, y_train, scoring='neg_root_mean_squared_error', cv=5)\n",
    "\n",
    "\n",
    "print(f\"RMSE: {rmse}\")\n",
    "print(f\"MAE: {mae}\")\n",
    "print(f\"r2_score: {r_score}\")\n",
    "print(\"Cross-Validation RMSE:\", np.abs(scores.mean()))"
   ]
  },
  {
   "cell_type": "markdown",
   "metadata": {},
   "source": [
    "Now let's update the alpha value to ge the Ridge Regression to get the most accurate value."
   ]
  },
  {
   "cell_type": "code",
   "execution_count": 578,
   "metadata": {},
   "outputs": [
    {
     "data": {
      "text/html": [
       "<style>#sk-container-id-17 {\n",
       "  /* Definition of color scheme common for light and dark mode */\n",
       "  --sklearn-color-text: black;\n",
       "  --sklearn-color-line: gray;\n",
       "  /* Definition of color scheme for unfitted estimators */\n",
       "  --sklearn-color-unfitted-level-0: #fff5e6;\n",
       "  --sklearn-color-unfitted-level-1: #f6e4d2;\n",
       "  --sklearn-color-unfitted-level-2: #ffe0b3;\n",
       "  --sklearn-color-unfitted-level-3: chocolate;\n",
       "  /* Definition of color scheme for fitted estimators */\n",
       "  --sklearn-color-fitted-level-0: #f0f8ff;\n",
       "  --sklearn-color-fitted-level-1: #d4ebff;\n",
       "  --sklearn-color-fitted-level-2: #b3dbfd;\n",
       "  --sklearn-color-fitted-level-3: cornflowerblue;\n",
       "\n",
       "  /* Specific color for light theme */\n",
       "  --sklearn-color-text-on-default-background: var(--sg-text-color, var(--theme-code-foreground, var(--jp-content-font-color1, black)));\n",
       "  --sklearn-color-background: var(--sg-background-color, var(--theme-background, var(--jp-layout-color0, white)));\n",
       "  --sklearn-color-border-box: var(--sg-text-color, var(--theme-code-foreground, var(--jp-content-font-color1, black)));\n",
       "  --sklearn-color-icon: #696969;\n",
       "\n",
       "  @media (prefers-color-scheme: dark) {\n",
       "    /* Redefinition of color scheme for dark theme */\n",
       "    --sklearn-color-text-on-default-background: var(--sg-text-color, var(--theme-code-foreground, var(--jp-content-font-color1, white)));\n",
       "    --sklearn-color-background: var(--sg-background-color, var(--theme-background, var(--jp-layout-color0, #111)));\n",
       "    --sklearn-color-border-box: var(--sg-text-color, var(--theme-code-foreground, var(--jp-content-font-color1, white)));\n",
       "    --sklearn-color-icon: #878787;\n",
       "  }\n",
       "}\n",
       "\n",
       "#sk-container-id-17 {\n",
       "  color: var(--sklearn-color-text);\n",
       "}\n",
       "\n",
       "#sk-container-id-17 pre {\n",
       "  padding: 0;\n",
       "}\n",
       "\n",
       "#sk-container-id-17 input.sk-hidden--visually {\n",
       "  border: 0;\n",
       "  clip: rect(1px 1px 1px 1px);\n",
       "  clip: rect(1px, 1px, 1px, 1px);\n",
       "  height: 1px;\n",
       "  margin: -1px;\n",
       "  overflow: hidden;\n",
       "  padding: 0;\n",
       "  position: absolute;\n",
       "  width: 1px;\n",
       "}\n",
       "\n",
       "#sk-container-id-17 div.sk-dashed-wrapped {\n",
       "  border: 1px dashed var(--sklearn-color-line);\n",
       "  margin: 0 0.4em 0.5em 0.4em;\n",
       "  box-sizing: border-box;\n",
       "  padding-bottom: 0.4em;\n",
       "  background-color: var(--sklearn-color-background);\n",
       "}\n",
       "\n",
       "#sk-container-id-17 div.sk-container {\n",
       "  /* jupyter's `normalize.less` sets `[hidden] { display: none; }`\n",
       "     but bootstrap.min.css set `[hidden] { display: none !important; }`\n",
       "     so we also need the `!important` here to be able to override the\n",
       "     default hidden behavior on the sphinx rendered scikit-learn.org.\n",
       "     See: https://github.com/scikit-learn/scikit-learn/issues/21755 */\n",
       "  display: inline-block !important;\n",
       "  position: relative;\n",
       "}\n",
       "\n",
       "#sk-container-id-17 div.sk-text-repr-fallback {\n",
       "  display: none;\n",
       "}\n",
       "\n",
       "div.sk-parallel-item,\n",
       "div.sk-serial,\n",
       "div.sk-item {\n",
       "  /* draw centered vertical line to link estimators */\n",
       "  background-image: linear-gradient(var(--sklearn-color-text-on-default-background), var(--sklearn-color-text-on-default-background));\n",
       "  background-size: 2px 100%;\n",
       "  background-repeat: no-repeat;\n",
       "  background-position: center center;\n",
       "}\n",
       "\n",
       "/* Parallel-specific style estimator block */\n",
       "\n",
       "#sk-container-id-17 div.sk-parallel-item::after {\n",
       "  content: \"\";\n",
       "  width: 100%;\n",
       "  border-bottom: 2px solid var(--sklearn-color-text-on-default-background);\n",
       "  flex-grow: 1;\n",
       "}\n",
       "\n",
       "#sk-container-id-17 div.sk-parallel {\n",
       "  display: flex;\n",
       "  align-items: stretch;\n",
       "  justify-content: center;\n",
       "  background-color: var(--sklearn-color-background);\n",
       "  position: relative;\n",
       "}\n",
       "\n",
       "#sk-container-id-17 div.sk-parallel-item {\n",
       "  display: flex;\n",
       "  flex-direction: column;\n",
       "}\n",
       "\n",
       "#sk-container-id-17 div.sk-parallel-item:first-child::after {\n",
       "  align-self: flex-end;\n",
       "  width: 50%;\n",
       "}\n",
       "\n",
       "#sk-container-id-17 div.sk-parallel-item:last-child::after {\n",
       "  align-self: flex-start;\n",
       "  width: 50%;\n",
       "}\n",
       "\n",
       "#sk-container-id-17 div.sk-parallel-item:only-child::after {\n",
       "  width: 0;\n",
       "}\n",
       "\n",
       "/* Serial-specific style estimator block */\n",
       "\n",
       "#sk-container-id-17 div.sk-serial {\n",
       "  display: flex;\n",
       "  flex-direction: column;\n",
       "  align-items: center;\n",
       "  background-color: var(--sklearn-color-background);\n",
       "  padding-right: 1em;\n",
       "  padding-left: 1em;\n",
       "}\n",
       "\n",
       "\n",
       "/* Toggleable style: style used for estimator/Pipeline/ColumnTransformer box that is\n",
       "clickable and can be expanded/collapsed.\n",
       "- Pipeline and ColumnTransformer use this feature and define the default style\n",
       "- Estimators will overwrite some part of the style using the `sk-estimator` class\n",
       "*/\n",
       "\n",
       "/* Pipeline and ColumnTransformer style (default) */\n",
       "\n",
       "#sk-container-id-17 div.sk-toggleable {\n",
       "  /* Default theme specific background. It is overwritten whether we have a\n",
       "  specific estimator or a Pipeline/ColumnTransformer */\n",
       "  background-color: var(--sklearn-color-background);\n",
       "}\n",
       "\n",
       "/* Toggleable label */\n",
       "#sk-container-id-17 label.sk-toggleable__label {\n",
       "  cursor: pointer;\n",
       "  display: block;\n",
       "  width: 100%;\n",
       "  margin-bottom: 0;\n",
       "  padding: 0.5em;\n",
       "  box-sizing: border-box;\n",
       "  text-align: center;\n",
       "}\n",
       "\n",
       "#sk-container-id-17 label.sk-toggleable__label-arrow:before {\n",
       "  /* Arrow on the left of the label */\n",
       "  content: \"▸\";\n",
       "  float: left;\n",
       "  margin-right: 0.25em;\n",
       "  color: var(--sklearn-color-icon);\n",
       "}\n",
       "\n",
       "#sk-container-id-17 label.sk-toggleable__label-arrow:hover:before {\n",
       "  color: var(--sklearn-color-text);\n",
       "}\n",
       "\n",
       "/* Toggleable content - dropdown */\n",
       "\n",
       "#sk-container-id-17 div.sk-toggleable__content {\n",
       "  max-height: 0;\n",
       "  max-width: 0;\n",
       "  overflow: hidden;\n",
       "  text-align: left;\n",
       "  /* unfitted */\n",
       "  background-color: var(--sklearn-color-unfitted-level-0);\n",
       "}\n",
       "\n",
       "#sk-container-id-17 div.sk-toggleable__content.fitted {\n",
       "  /* fitted */\n",
       "  background-color: var(--sklearn-color-fitted-level-0);\n",
       "}\n",
       "\n",
       "#sk-container-id-17 div.sk-toggleable__content pre {\n",
       "  margin: 0.2em;\n",
       "  border-radius: 0.25em;\n",
       "  color: var(--sklearn-color-text);\n",
       "  /* unfitted */\n",
       "  background-color: var(--sklearn-color-unfitted-level-0);\n",
       "}\n",
       "\n",
       "#sk-container-id-17 div.sk-toggleable__content.fitted pre {\n",
       "  /* unfitted */\n",
       "  background-color: var(--sklearn-color-fitted-level-0);\n",
       "}\n",
       "\n",
       "#sk-container-id-17 input.sk-toggleable__control:checked~div.sk-toggleable__content {\n",
       "  /* Expand drop-down */\n",
       "  max-height: 200px;\n",
       "  max-width: 100%;\n",
       "  overflow: auto;\n",
       "}\n",
       "\n",
       "#sk-container-id-17 input.sk-toggleable__control:checked~label.sk-toggleable__label-arrow:before {\n",
       "  content: \"▾\";\n",
       "}\n",
       "\n",
       "/* Pipeline/ColumnTransformer-specific style */\n",
       "\n",
       "#sk-container-id-17 div.sk-label input.sk-toggleable__control:checked~label.sk-toggleable__label {\n",
       "  color: var(--sklearn-color-text);\n",
       "  background-color: var(--sklearn-color-unfitted-level-2);\n",
       "}\n",
       "\n",
       "#sk-container-id-17 div.sk-label.fitted input.sk-toggleable__control:checked~label.sk-toggleable__label {\n",
       "  background-color: var(--sklearn-color-fitted-level-2);\n",
       "}\n",
       "\n",
       "/* Estimator-specific style */\n",
       "\n",
       "/* Colorize estimator box */\n",
       "#sk-container-id-17 div.sk-estimator input.sk-toggleable__control:checked~label.sk-toggleable__label {\n",
       "  /* unfitted */\n",
       "  background-color: var(--sklearn-color-unfitted-level-2);\n",
       "}\n",
       "\n",
       "#sk-container-id-17 div.sk-estimator.fitted input.sk-toggleable__control:checked~label.sk-toggleable__label {\n",
       "  /* fitted */\n",
       "  background-color: var(--sklearn-color-fitted-level-2);\n",
       "}\n",
       "\n",
       "#sk-container-id-17 div.sk-label label.sk-toggleable__label,\n",
       "#sk-container-id-17 div.sk-label label {\n",
       "  /* The background is the default theme color */\n",
       "  color: var(--sklearn-color-text-on-default-background);\n",
       "}\n",
       "\n",
       "/* On hover, darken the color of the background */\n",
       "#sk-container-id-17 div.sk-label:hover label.sk-toggleable__label {\n",
       "  color: var(--sklearn-color-text);\n",
       "  background-color: var(--sklearn-color-unfitted-level-2);\n",
       "}\n",
       "\n",
       "/* Label box, darken color on hover, fitted */\n",
       "#sk-container-id-17 div.sk-label.fitted:hover label.sk-toggleable__label.fitted {\n",
       "  color: var(--sklearn-color-text);\n",
       "  background-color: var(--sklearn-color-fitted-level-2);\n",
       "}\n",
       "\n",
       "/* Estimator label */\n",
       "\n",
       "#sk-container-id-17 div.sk-label label {\n",
       "  font-family: monospace;\n",
       "  font-weight: bold;\n",
       "  display: inline-block;\n",
       "  line-height: 1.2em;\n",
       "}\n",
       "\n",
       "#sk-container-id-17 div.sk-label-container {\n",
       "  text-align: center;\n",
       "}\n",
       "\n",
       "/* Estimator-specific */\n",
       "#sk-container-id-17 div.sk-estimator {\n",
       "  font-family: monospace;\n",
       "  border: 1px dotted var(--sklearn-color-border-box);\n",
       "  border-radius: 0.25em;\n",
       "  box-sizing: border-box;\n",
       "  margin-bottom: 0.5em;\n",
       "  /* unfitted */\n",
       "  background-color: var(--sklearn-color-unfitted-level-0);\n",
       "}\n",
       "\n",
       "#sk-container-id-17 div.sk-estimator.fitted {\n",
       "  /* fitted */\n",
       "  background-color: var(--sklearn-color-fitted-level-0);\n",
       "}\n",
       "\n",
       "/* on hover */\n",
       "#sk-container-id-17 div.sk-estimator:hover {\n",
       "  /* unfitted */\n",
       "  background-color: var(--sklearn-color-unfitted-level-2);\n",
       "}\n",
       "\n",
       "#sk-container-id-17 div.sk-estimator.fitted:hover {\n",
       "  /* fitted */\n",
       "  background-color: var(--sklearn-color-fitted-level-2);\n",
       "}\n",
       "\n",
       "/* Specification for estimator info (e.g. \"i\" and \"?\") */\n",
       "\n",
       "/* Common style for \"i\" and \"?\" */\n",
       "\n",
       ".sk-estimator-doc-link,\n",
       "a:link.sk-estimator-doc-link,\n",
       "a:visited.sk-estimator-doc-link {\n",
       "  float: right;\n",
       "  font-size: smaller;\n",
       "  line-height: 1em;\n",
       "  font-family: monospace;\n",
       "  background-color: var(--sklearn-color-background);\n",
       "  border-radius: 1em;\n",
       "  height: 1em;\n",
       "  width: 1em;\n",
       "  text-decoration: none !important;\n",
       "  margin-left: 1ex;\n",
       "  /* unfitted */\n",
       "  border: var(--sklearn-color-unfitted-level-1) 1pt solid;\n",
       "  color: var(--sklearn-color-unfitted-level-1);\n",
       "}\n",
       "\n",
       ".sk-estimator-doc-link.fitted,\n",
       "a:link.sk-estimator-doc-link.fitted,\n",
       "a:visited.sk-estimator-doc-link.fitted {\n",
       "  /* fitted */\n",
       "  border: var(--sklearn-color-fitted-level-1) 1pt solid;\n",
       "  color: var(--sklearn-color-fitted-level-1);\n",
       "}\n",
       "\n",
       "/* On hover */\n",
       "div.sk-estimator:hover .sk-estimator-doc-link:hover,\n",
       ".sk-estimator-doc-link:hover,\n",
       "div.sk-label-container:hover .sk-estimator-doc-link:hover,\n",
       ".sk-estimator-doc-link:hover {\n",
       "  /* unfitted */\n",
       "  background-color: var(--sklearn-color-unfitted-level-3);\n",
       "  color: var(--sklearn-color-background);\n",
       "  text-decoration: none;\n",
       "}\n",
       "\n",
       "div.sk-estimator.fitted:hover .sk-estimator-doc-link.fitted:hover,\n",
       ".sk-estimator-doc-link.fitted:hover,\n",
       "div.sk-label-container:hover .sk-estimator-doc-link.fitted:hover,\n",
       ".sk-estimator-doc-link.fitted:hover {\n",
       "  /* fitted */\n",
       "  background-color: var(--sklearn-color-fitted-level-3);\n",
       "  color: var(--sklearn-color-background);\n",
       "  text-decoration: none;\n",
       "}\n",
       "\n",
       "/* Span, style for the box shown on hovering the info icon */\n",
       ".sk-estimator-doc-link span {\n",
       "  display: none;\n",
       "  z-index: 9999;\n",
       "  position: relative;\n",
       "  font-weight: normal;\n",
       "  right: .2ex;\n",
       "  padding: .5ex;\n",
       "  margin: .5ex;\n",
       "  width: min-content;\n",
       "  min-width: 20ex;\n",
       "  max-width: 50ex;\n",
       "  color: var(--sklearn-color-text);\n",
       "  box-shadow: 2pt 2pt 4pt #999;\n",
       "  /* unfitted */\n",
       "  background: var(--sklearn-color-unfitted-level-0);\n",
       "  border: .5pt solid var(--sklearn-color-unfitted-level-3);\n",
       "}\n",
       "\n",
       ".sk-estimator-doc-link.fitted span {\n",
       "  /* fitted */\n",
       "  background: var(--sklearn-color-fitted-level-0);\n",
       "  border: var(--sklearn-color-fitted-level-3);\n",
       "}\n",
       "\n",
       ".sk-estimator-doc-link:hover span {\n",
       "  display: block;\n",
       "}\n",
       "\n",
       "/* \"?\"-specific style due to the `<a>` HTML tag */\n",
       "\n",
       "#sk-container-id-17 a.estimator_doc_link {\n",
       "  float: right;\n",
       "  font-size: 1rem;\n",
       "  line-height: 1em;\n",
       "  font-family: monospace;\n",
       "  background-color: var(--sklearn-color-background);\n",
       "  border-radius: 1rem;\n",
       "  height: 1rem;\n",
       "  width: 1rem;\n",
       "  text-decoration: none;\n",
       "  /* unfitted */\n",
       "  color: var(--sklearn-color-unfitted-level-1);\n",
       "  border: var(--sklearn-color-unfitted-level-1) 1pt solid;\n",
       "}\n",
       "\n",
       "#sk-container-id-17 a.estimator_doc_link.fitted {\n",
       "  /* fitted */\n",
       "  border: var(--sklearn-color-fitted-level-1) 1pt solid;\n",
       "  color: var(--sklearn-color-fitted-level-1);\n",
       "}\n",
       "\n",
       "/* On hover */\n",
       "#sk-container-id-17 a.estimator_doc_link:hover {\n",
       "  /* unfitted */\n",
       "  background-color: var(--sklearn-color-unfitted-level-3);\n",
       "  color: var(--sklearn-color-background);\n",
       "  text-decoration: none;\n",
       "}\n",
       "\n",
       "#sk-container-id-17 a.estimator_doc_link.fitted:hover {\n",
       "  /* fitted */\n",
       "  background-color: var(--sklearn-color-fitted-level-3);\n",
       "}\n",
       "</style><div id=\"sk-container-id-17\" class=\"sk-top-container\"><div class=\"sk-text-repr-fallback\"><pre>Ridge(alpha=1)</pre><b>In a Jupyter environment, please rerun this cell to show the HTML representation or trust the notebook. <br />On GitHub, the HTML representation is unable to render, please try loading this page with nbviewer.org.</b></div><div class=\"sk-container\" hidden><div class=\"sk-item\"><div class=\"sk-estimator fitted sk-toggleable\"><input class=\"sk-toggleable__control sk-hidden--visually\" id=\"sk-estimator-id-17\" type=\"checkbox\" checked><label for=\"sk-estimator-id-17\" class=\"sk-toggleable__label fitted sk-toggleable__label-arrow fitted\">&nbsp;&nbsp;Ridge<a class=\"sk-estimator-doc-link fitted\" rel=\"noreferrer\" target=\"_blank\" href=\"https://scikit-learn.org/1.5/modules/generated/sklearn.linear_model.Ridge.html\">?<span>Documentation for Ridge</span></a><span class=\"sk-estimator-doc-link fitted\">i<span>Fitted</span></span></label><div class=\"sk-toggleable__content fitted\"><pre>Ridge(alpha=1)</pre></div> </div></div></div></div>"
      ],
      "text/plain": [
       "Ridge(alpha=1)"
      ]
     },
     "execution_count": 578,
     "metadata": {},
     "output_type": "execute_result"
    }
   ],
   "source": [
    "X = df.drop(columns=[\"price\", \"price_log\", \"km\"])\n",
    "y = df[\"price_log\"]\n",
    "\n",
    "# Train-Test Split\n",
    "X_train, X_test, y_train, y_test = train_test_split(X, y, test_size=0.2, random_state=42)\n",
    "\n",
    "# Standardize Features (X)\n",
    "scaler = StandardScaler()\n",
    "X_train = scaler.fit_transform(X_train)\n",
    "X_test = scaler.transform(X_test)\n",
    "\n",
    "# Ridge Regression Model\n",
    "ridge = Ridge(alpha=1)  # Use best alpha value\n",
    "ridge.fit(X_train, y_train)"
   ]
  },
  {
   "cell_type": "markdown",
   "metadata": {},
   "source": [
    "Let me pick any random value to check the score."
   ]
  },
  {
   "cell_type": "code",
   "execution_count": null,
   "metadata": {},
   "outputs": [],
   "source": [
    "sample = X_test[5:6]  # Pick one test row\n",
    "sample_pred = np.expm1(ridge.predict(sample))  # Convert log price back\n",
    "print(f\"Predicted Price: {sample_pred[0]}\")"
   ]
  },
  {
   "cell_type": "markdown",
   "metadata": {},
   "source": [
    "## Final Insights & Learnings\n",
    "\n",
    "This project has been a great learning opportunity, starting from web scraping to data cleaning, analysis, and modeling. \n",
    "\n",
    "While working through the pipeline, I encountered several real-world challenges and mistakes, which ultimately helped me develop a deeper understanding of the data science workflow.\n",
    "\n",
    "One of the first mistakes I made was overlooking duplicate values. Initially, I assumed they were valid due to multiple OEMs and models, but later realized I should have investigated further. \n",
    "\n",
    "This assumption led to noisy data, affecting the later stages of analysis.\n",
    "\n",
    "Moving to modeling, Linear Regression initially showed a perfect R² score of 1, which was a clear sign of overfitting. Suspecting multicollinearity, I removed highly correlated features, but instead of improving, the model’s performance degraded further. \n",
    "\n",
    "To address this, I introduced Ridge Regression to control overfitting, which worked to an extent but still left room for optimization.\n",
    "\n",
    "To refine the model, I applied GridSearchCV for hyperparameter tuning. \n",
    "\n",
    "However, when testing the model with random data, I discovered a major issue—the dataset had only 8 OEMs, which seemed incorrect. Upon investigation, I found that the web scraping process had only extracted a single page of data due to a pagination issue.\n",
    "\n",
    "This was a critical lesson: always validate the source data thoroughly before moving ahead, as any oversight in the early stages can render later efforts meaningless.\n",
    "\n",
    "I'm currently working on fixing the scraping issue and will re-run the entire pipeline—from analysis to modeling—ensuring the process is more robust. This experience reinforced that mistakes are an integral part of real-world data science, and each challenge presents an opportunity to learn and improve."
   ]
  }
 ],
 "metadata": {
  "kernelspec": {
   "display_name": "Python 3",
   "language": "python",
   "name": "python3"
  },
  "language_info": {
   "codemirror_mode": {
    "name": "ipython",
    "version": 3
   },
   "file_extension": ".py",
   "mimetype": "text/x-python",
   "name": "python",
   "nbconvert_exporter": "python",
   "pygments_lexer": "ipython3",
   "version": "3.10.0"
  }
 },
 "nbformat": 4,
 "nbformat_minor": 2
}
